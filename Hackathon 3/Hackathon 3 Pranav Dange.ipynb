{
 "cells": [
  {
   "cell_type": "code",
   "execution_count": 275,
   "metadata": {},
   "outputs": [],
   "source": [
    "import pandas as pd\n",
    "import numpy as np\n",
    "from sklearn.neighbors import NearestNeighbors\n",
    "from sklearn.decomposition import PCA\n",
    "import matplotlib.pyplot as plt\n",
    "import seaborn as sns"
   ]
  },
  {
   "cell_type": "code",
   "execution_count": 276,
   "metadata": {},
   "outputs": [],
   "source": [
    "zoo=pd.read_csv('zoo.csv')\n",
    "class1 = pd.read_csv('class.csv')"
   ]
  },
  {
   "cell_type": "code",
   "execution_count": 277,
   "metadata": {},
   "outputs": [
    {
     "data": {
      "text/html": [
       "<div>\n",
       "<style scoped>\n",
       "    .dataframe tbody tr th:only-of-type {\n",
       "        vertical-align: middle;\n",
       "    }\n",
       "\n",
       "    .dataframe tbody tr th {\n",
       "        vertical-align: top;\n",
       "    }\n",
       "\n",
       "    .dataframe thead th {\n",
       "        text-align: right;\n",
       "    }\n",
       "</style>\n",
       "<table border=\"1\" class=\"dataframe\">\n",
       "  <thead>\n",
       "    <tr style=\"text-align: right;\">\n",
       "      <th></th>\n",
       "      <th>animal_name</th>\n",
       "      <th>hair</th>\n",
       "      <th>feathers</th>\n",
       "      <th>eggs</th>\n",
       "      <th>milk</th>\n",
       "      <th>airborne</th>\n",
       "      <th>aquatic</th>\n",
       "      <th>predator</th>\n",
       "      <th>toothed</th>\n",
       "      <th>backbone</th>\n",
       "      <th>breathes</th>\n",
       "      <th>venomous</th>\n",
       "      <th>fins</th>\n",
       "      <th>legs</th>\n",
       "      <th>tail</th>\n",
       "      <th>domestic</th>\n",
       "      <th>catsize</th>\n",
       "      <th>class_type</th>\n",
       "    </tr>\n",
       "  </thead>\n",
       "  <tbody>\n",
       "    <tr>\n",
       "      <th>0</th>\n",
       "      <td>aardvark</td>\n",
       "      <td>1</td>\n",
       "      <td>0</td>\n",
       "      <td>0</td>\n",
       "      <td>1</td>\n",
       "      <td>0</td>\n",
       "      <td>0</td>\n",
       "      <td>1</td>\n",
       "      <td>1</td>\n",
       "      <td>1</td>\n",
       "      <td>1</td>\n",
       "      <td>0</td>\n",
       "      <td>0</td>\n",
       "      <td>4</td>\n",
       "      <td>0</td>\n",
       "      <td>0</td>\n",
       "      <td>1</td>\n",
       "      <td>1</td>\n",
       "    </tr>\n",
       "    <tr>\n",
       "      <th>1</th>\n",
       "      <td>antelope</td>\n",
       "      <td>1</td>\n",
       "      <td>0</td>\n",
       "      <td>0</td>\n",
       "      <td>1</td>\n",
       "      <td>0</td>\n",
       "      <td>0</td>\n",
       "      <td>0</td>\n",
       "      <td>1</td>\n",
       "      <td>1</td>\n",
       "      <td>1</td>\n",
       "      <td>0</td>\n",
       "      <td>0</td>\n",
       "      <td>4</td>\n",
       "      <td>1</td>\n",
       "      <td>0</td>\n",
       "      <td>1</td>\n",
       "      <td>1</td>\n",
       "    </tr>\n",
       "    <tr>\n",
       "      <th>2</th>\n",
       "      <td>bass</td>\n",
       "      <td>0</td>\n",
       "      <td>0</td>\n",
       "      <td>1</td>\n",
       "      <td>0</td>\n",
       "      <td>0</td>\n",
       "      <td>1</td>\n",
       "      <td>1</td>\n",
       "      <td>1</td>\n",
       "      <td>1</td>\n",
       "      <td>0</td>\n",
       "      <td>0</td>\n",
       "      <td>1</td>\n",
       "      <td>0</td>\n",
       "      <td>1</td>\n",
       "      <td>0</td>\n",
       "      <td>0</td>\n",
       "      <td>4</td>\n",
       "    </tr>\n",
       "    <tr>\n",
       "      <th>3</th>\n",
       "      <td>bear</td>\n",
       "      <td>1</td>\n",
       "      <td>0</td>\n",
       "      <td>0</td>\n",
       "      <td>1</td>\n",
       "      <td>0</td>\n",
       "      <td>0</td>\n",
       "      <td>1</td>\n",
       "      <td>1</td>\n",
       "      <td>1</td>\n",
       "      <td>1</td>\n",
       "      <td>0</td>\n",
       "      <td>0</td>\n",
       "      <td>4</td>\n",
       "      <td>0</td>\n",
       "      <td>0</td>\n",
       "      <td>1</td>\n",
       "      <td>1</td>\n",
       "    </tr>\n",
       "    <tr>\n",
       "      <th>4</th>\n",
       "      <td>boar</td>\n",
       "      <td>1</td>\n",
       "      <td>0</td>\n",
       "      <td>0</td>\n",
       "      <td>1</td>\n",
       "      <td>0</td>\n",
       "      <td>0</td>\n",
       "      <td>1</td>\n",
       "      <td>1</td>\n",
       "      <td>1</td>\n",
       "      <td>1</td>\n",
       "      <td>0</td>\n",
       "      <td>0</td>\n",
       "      <td>4</td>\n",
       "      <td>1</td>\n",
       "      <td>0</td>\n",
       "      <td>1</td>\n",
       "      <td>1</td>\n",
       "    </tr>\n",
       "    <tr>\n",
       "      <th>5</th>\n",
       "      <td>buffalo</td>\n",
       "      <td>1</td>\n",
       "      <td>0</td>\n",
       "      <td>0</td>\n",
       "      <td>1</td>\n",
       "      <td>0</td>\n",
       "      <td>0</td>\n",
       "      <td>0</td>\n",
       "      <td>1</td>\n",
       "      <td>1</td>\n",
       "      <td>1</td>\n",
       "      <td>0</td>\n",
       "      <td>0</td>\n",
       "      <td>4</td>\n",
       "      <td>1</td>\n",
       "      <td>0</td>\n",
       "      <td>1</td>\n",
       "      <td>1</td>\n",
       "    </tr>\n",
       "    <tr>\n",
       "      <th>6</th>\n",
       "      <td>calf</td>\n",
       "      <td>1</td>\n",
       "      <td>0</td>\n",
       "      <td>0</td>\n",
       "      <td>1</td>\n",
       "      <td>0</td>\n",
       "      <td>0</td>\n",
       "      <td>0</td>\n",
       "      <td>1</td>\n",
       "      <td>1</td>\n",
       "      <td>1</td>\n",
       "      <td>0</td>\n",
       "      <td>0</td>\n",
       "      <td>4</td>\n",
       "      <td>1</td>\n",
       "      <td>1</td>\n",
       "      <td>1</td>\n",
       "      <td>1</td>\n",
       "    </tr>\n",
       "    <tr>\n",
       "      <th>7</th>\n",
       "      <td>carp</td>\n",
       "      <td>0</td>\n",
       "      <td>0</td>\n",
       "      <td>1</td>\n",
       "      <td>0</td>\n",
       "      <td>0</td>\n",
       "      <td>1</td>\n",
       "      <td>0</td>\n",
       "      <td>1</td>\n",
       "      <td>1</td>\n",
       "      <td>0</td>\n",
       "      <td>0</td>\n",
       "      <td>1</td>\n",
       "      <td>0</td>\n",
       "      <td>1</td>\n",
       "      <td>1</td>\n",
       "      <td>0</td>\n",
       "      <td>4</td>\n",
       "    </tr>\n",
       "    <tr>\n",
       "      <th>8</th>\n",
       "      <td>catfish</td>\n",
       "      <td>0</td>\n",
       "      <td>0</td>\n",
       "      <td>1</td>\n",
       "      <td>0</td>\n",
       "      <td>0</td>\n",
       "      <td>1</td>\n",
       "      <td>1</td>\n",
       "      <td>1</td>\n",
       "      <td>1</td>\n",
       "      <td>0</td>\n",
       "      <td>0</td>\n",
       "      <td>1</td>\n",
       "      <td>0</td>\n",
       "      <td>1</td>\n",
       "      <td>0</td>\n",
       "      <td>0</td>\n",
       "      <td>4</td>\n",
       "    </tr>\n",
       "    <tr>\n",
       "      <th>9</th>\n",
       "      <td>cavy</td>\n",
       "      <td>1</td>\n",
       "      <td>0</td>\n",
       "      <td>0</td>\n",
       "      <td>1</td>\n",
       "      <td>0</td>\n",
       "      <td>0</td>\n",
       "      <td>0</td>\n",
       "      <td>1</td>\n",
       "      <td>1</td>\n",
       "      <td>1</td>\n",
       "      <td>0</td>\n",
       "      <td>0</td>\n",
       "      <td>4</td>\n",
       "      <td>0</td>\n",
       "      <td>1</td>\n",
       "      <td>0</td>\n",
       "      <td>1</td>\n",
       "    </tr>\n",
       "  </tbody>\n",
       "</table>\n",
       "</div>"
      ],
      "text/plain": [
       "  animal_name  hair  feathers  eggs  milk  airborne  aquatic  predator  \\\n",
       "0    aardvark     1         0     0     1         0        0         1   \n",
       "1    antelope     1         0     0     1         0        0         0   \n",
       "2        bass     0         0     1     0         0        1         1   \n",
       "3        bear     1         0     0     1         0        0         1   \n",
       "4        boar     1         0     0     1         0        0         1   \n",
       "5     buffalo     1         0     0     1         0        0         0   \n",
       "6        calf     1         0     0     1         0        0         0   \n",
       "7        carp     0         0     1     0         0        1         0   \n",
       "8     catfish     0         0     1     0         0        1         1   \n",
       "9        cavy     1         0     0     1         0        0         0   \n",
       "\n",
       "   toothed  backbone  breathes  venomous  fins  legs  tail  domestic  catsize  \\\n",
       "0        1         1         1         0     0     4     0         0        1   \n",
       "1        1         1         1         0     0     4     1         0        1   \n",
       "2        1         1         0         0     1     0     1         0        0   \n",
       "3        1         1         1         0     0     4     0         0        1   \n",
       "4        1         1         1         0     0     4     1         0        1   \n",
       "5        1         1         1         0     0     4     1         0        1   \n",
       "6        1         1         1         0     0     4     1         1        1   \n",
       "7        1         1         0         0     1     0     1         1        0   \n",
       "8        1         1         0         0     1     0     1         0        0   \n",
       "9        1         1         1         0     0     4     0         1        0   \n",
       "\n",
       "   class_type  \n",
       "0           1  \n",
       "1           1  \n",
       "2           4  \n",
       "3           1  \n",
       "4           1  \n",
       "5           1  \n",
       "6           1  \n",
       "7           4  \n",
       "8           4  \n",
       "9           1  "
      ]
     },
     "execution_count": 277,
     "metadata": {},
     "output_type": "execute_result"
    }
   ],
   "source": [
    "zoo.head(10)"
   ]
  },
  {
   "cell_type": "code",
   "execution_count": 278,
   "metadata": {},
   "outputs": [
    {
     "data": {
      "text/plain": [
       "Index(['animal_name', 'hair', 'feathers', 'eggs', 'milk', 'airborne',\n",
       "       'aquatic', 'predator', 'toothed', 'backbone', 'breathes', 'venomous',\n",
       "       'fins', 'legs', 'tail', 'domestic', 'catsize', 'class_type'],\n",
       "      dtype='object')"
      ]
     },
     "execution_count": 278,
     "metadata": {},
     "output_type": "execute_result"
    }
   ],
   "source": [
    "zoo.columns.unique()"
   ]
  },
  {
   "cell_type": "code",
   "execution_count": 279,
   "metadata": {},
   "outputs": [
    {
     "data": {
      "text/html": [
       "<div>\n",
       "<style scoped>\n",
       "    .dataframe tbody tr th:only-of-type {\n",
       "        vertical-align: middle;\n",
       "    }\n",
       "\n",
       "    .dataframe tbody tr th {\n",
       "        vertical-align: top;\n",
       "    }\n",
       "\n",
       "    .dataframe thead th {\n",
       "        text-align: right;\n",
       "    }\n",
       "</style>\n",
       "<table border=\"1\" class=\"dataframe\">\n",
       "  <thead>\n",
       "    <tr style=\"text-align: right;\">\n",
       "      <th></th>\n",
       "      <th>animal_name</th>\n",
       "      <th>hair</th>\n",
       "      <th>feathers</th>\n",
       "      <th>eggs</th>\n",
       "      <th>milk</th>\n",
       "      <th>airborne</th>\n",
       "      <th>aquatic</th>\n",
       "      <th>predator</th>\n",
       "      <th>toothed</th>\n",
       "      <th>backbone</th>\n",
       "      <th>breathes</th>\n",
       "      <th>venomous</th>\n",
       "      <th>fins</th>\n",
       "      <th>legs</th>\n",
       "      <th>tail</th>\n",
       "      <th>domestic</th>\n",
       "      <th>catsize</th>\n",
       "      <th>class_type</th>\n",
       "    </tr>\n",
       "  </thead>\n",
       "  <tbody>\n",
       "    <tr>\n",
       "      <th>0</th>\n",
       "      <td>aardvark</td>\n",
       "      <td>1</td>\n",
       "      <td>0</td>\n",
       "      <td>0</td>\n",
       "      <td>1</td>\n",
       "      <td>0</td>\n",
       "      <td>0</td>\n",
       "      <td>1</td>\n",
       "      <td>1</td>\n",
       "      <td>1</td>\n",
       "      <td>1</td>\n",
       "      <td>0</td>\n",
       "      <td>0</td>\n",
       "      <td>4</td>\n",
       "      <td>0</td>\n",
       "      <td>0</td>\n",
       "      <td>1</td>\n",
       "      <td>1</td>\n",
       "    </tr>\n",
       "    <tr>\n",
       "      <th>1</th>\n",
       "      <td>antelope</td>\n",
       "      <td>1</td>\n",
       "      <td>0</td>\n",
       "      <td>0</td>\n",
       "      <td>1</td>\n",
       "      <td>0</td>\n",
       "      <td>0</td>\n",
       "      <td>0</td>\n",
       "      <td>1</td>\n",
       "      <td>1</td>\n",
       "      <td>1</td>\n",
       "      <td>0</td>\n",
       "      <td>0</td>\n",
       "      <td>4</td>\n",
       "      <td>1</td>\n",
       "      <td>0</td>\n",
       "      <td>1</td>\n",
       "      <td>1</td>\n",
       "    </tr>\n",
       "    <tr>\n",
       "      <th>2</th>\n",
       "      <td>bass</td>\n",
       "      <td>0</td>\n",
       "      <td>0</td>\n",
       "      <td>1</td>\n",
       "      <td>0</td>\n",
       "      <td>0</td>\n",
       "      <td>1</td>\n",
       "      <td>1</td>\n",
       "      <td>1</td>\n",
       "      <td>1</td>\n",
       "      <td>0</td>\n",
       "      <td>0</td>\n",
       "      <td>1</td>\n",
       "      <td>0</td>\n",
       "      <td>1</td>\n",
       "      <td>0</td>\n",
       "      <td>0</td>\n",
       "      <td>4</td>\n",
       "    </tr>\n",
       "    <tr>\n",
       "      <th>3</th>\n",
       "      <td>bear</td>\n",
       "      <td>1</td>\n",
       "      <td>0</td>\n",
       "      <td>0</td>\n",
       "      <td>1</td>\n",
       "      <td>0</td>\n",
       "      <td>0</td>\n",
       "      <td>1</td>\n",
       "      <td>1</td>\n",
       "      <td>1</td>\n",
       "      <td>1</td>\n",
       "      <td>0</td>\n",
       "      <td>0</td>\n",
       "      <td>4</td>\n",
       "      <td>0</td>\n",
       "      <td>0</td>\n",
       "      <td>1</td>\n",
       "      <td>1</td>\n",
       "    </tr>\n",
       "    <tr>\n",
       "      <th>4</th>\n",
       "      <td>boar</td>\n",
       "      <td>1</td>\n",
       "      <td>0</td>\n",
       "      <td>0</td>\n",
       "      <td>1</td>\n",
       "      <td>0</td>\n",
       "      <td>0</td>\n",
       "      <td>1</td>\n",
       "      <td>1</td>\n",
       "      <td>1</td>\n",
       "      <td>1</td>\n",
       "      <td>0</td>\n",
       "      <td>0</td>\n",
       "      <td>4</td>\n",
       "      <td>1</td>\n",
       "      <td>0</td>\n",
       "      <td>1</td>\n",
       "      <td>1</td>\n",
       "    </tr>\n",
       "    <tr>\n",
       "      <th>...</th>\n",
       "      <td>...</td>\n",
       "      <td>...</td>\n",
       "      <td>...</td>\n",
       "      <td>...</td>\n",
       "      <td>...</td>\n",
       "      <td>...</td>\n",
       "      <td>...</td>\n",
       "      <td>...</td>\n",
       "      <td>...</td>\n",
       "      <td>...</td>\n",
       "      <td>...</td>\n",
       "      <td>...</td>\n",
       "      <td>...</td>\n",
       "      <td>...</td>\n",
       "      <td>...</td>\n",
       "      <td>...</td>\n",
       "      <td>...</td>\n",
       "      <td>...</td>\n",
       "    </tr>\n",
       "    <tr>\n",
       "      <th>96</th>\n",
       "      <td>wallaby</td>\n",
       "      <td>1</td>\n",
       "      <td>0</td>\n",
       "      <td>0</td>\n",
       "      <td>1</td>\n",
       "      <td>0</td>\n",
       "      <td>0</td>\n",
       "      <td>0</td>\n",
       "      <td>1</td>\n",
       "      <td>1</td>\n",
       "      <td>1</td>\n",
       "      <td>0</td>\n",
       "      <td>0</td>\n",
       "      <td>2</td>\n",
       "      <td>1</td>\n",
       "      <td>0</td>\n",
       "      <td>1</td>\n",
       "      <td>1</td>\n",
       "    </tr>\n",
       "    <tr>\n",
       "      <th>97</th>\n",
       "      <td>wasp</td>\n",
       "      <td>1</td>\n",
       "      <td>0</td>\n",
       "      <td>1</td>\n",
       "      <td>0</td>\n",
       "      <td>1</td>\n",
       "      <td>0</td>\n",
       "      <td>0</td>\n",
       "      <td>0</td>\n",
       "      <td>0</td>\n",
       "      <td>1</td>\n",
       "      <td>1</td>\n",
       "      <td>0</td>\n",
       "      <td>6</td>\n",
       "      <td>0</td>\n",
       "      <td>0</td>\n",
       "      <td>0</td>\n",
       "      <td>6</td>\n",
       "    </tr>\n",
       "    <tr>\n",
       "      <th>98</th>\n",
       "      <td>wolf</td>\n",
       "      <td>1</td>\n",
       "      <td>0</td>\n",
       "      <td>0</td>\n",
       "      <td>1</td>\n",
       "      <td>0</td>\n",
       "      <td>0</td>\n",
       "      <td>1</td>\n",
       "      <td>1</td>\n",
       "      <td>1</td>\n",
       "      <td>1</td>\n",
       "      <td>0</td>\n",
       "      <td>0</td>\n",
       "      <td>4</td>\n",
       "      <td>1</td>\n",
       "      <td>0</td>\n",
       "      <td>1</td>\n",
       "      <td>1</td>\n",
       "    </tr>\n",
       "    <tr>\n",
       "      <th>99</th>\n",
       "      <td>worm</td>\n",
       "      <td>0</td>\n",
       "      <td>0</td>\n",
       "      <td>1</td>\n",
       "      <td>0</td>\n",
       "      <td>0</td>\n",
       "      <td>0</td>\n",
       "      <td>0</td>\n",
       "      <td>0</td>\n",
       "      <td>0</td>\n",
       "      <td>1</td>\n",
       "      <td>0</td>\n",
       "      <td>0</td>\n",
       "      <td>0</td>\n",
       "      <td>0</td>\n",
       "      <td>0</td>\n",
       "      <td>0</td>\n",
       "      <td>7</td>\n",
       "    </tr>\n",
       "    <tr>\n",
       "      <th>100</th>\n",
       "      <td>wren</td>\n",
       "      <td>0</td>\n",
       "      <td>1</td>\n",
       "      <td>1</td>\n",
       "      <td>0</td>\n",
       "      <td>1</td>\n",
       "      <td>0</td>\n",
       "      <td>0</td>\n",
       "      <td>0</td>\n",
       "      <td>1</td>\n",
       "      <td>1</td>\n",
       "      <td>0</td>\n",
       "      <td>0</td>\n",
       "      <td>2</td>\n",
       "      <td>1</td>\n",
       "      <td>0</td>\n",
       "      <td>0</td>\n",
       "      <td>2</td>\n",
       "    </tr>\n",
       "  </tbody>\n",
       "</table>\n",
       "<p>101 rows × 18 columns</p>\n",
       "</div>"
      ],
      "text/plain": [
       "    animal_name  hair  feathers  eggs  milk  airborne  aquatic  predator  \\\n",
       "0      aardvark     1         0     0     1         0        0         1   \n",
       "1      antelope     1         0     0     1         0        0         0   \n",
       "2          bass     0         0     1     0         0        1         1   \n",
       "3          bear     1         0     0     1         0        0         1   \n",
       "4          boar     1         0     0     1         0        0         1   \n",
       "..          ...   ...       ...   ...   ...       ...      ...       ...   \n",
       "96      wallaby     1         0     0     1         0        0         0   \n",
       "97         wasp     1         0     1     0         1        0         0   \n",
       "98         wolf     1         0     0     1         0        0         1   \n",
       "99         worm     0         0     1     0         0        0         0   \n",
       "100        wren     0         1     1     0         1        0         0   \n",
       "\n",
       "     toothed  backbone  breathes  venomous  fins  legs  tail  domestic  \\\n",
       "0          1         1         1         0     0     4     0         0   \n",
       "1          1         1         1         0     0     4     1         0   \n",
       "2          1         1         0         0     1     0     1         0   \n",
       "3          1         1         1         0     0     4     0         0   \n",
       "4          1         1         1         0     0     4     1         0   \n",
       "..       ...       ...       ...       ...   ...   ...   ...       ...   \n",
       "96         1         1         1         0     0     2     1         0   \n",
       "97         0         0         1         1     0     6     0         0   \n",
       "98         1         1         1         0     0     4     1         0   \n",
       "99         0         0         1         0     0     0     0         0   \n",
       "100        0         1         1         0     0     2     1         0   \n",
       "\n",
       "     catsize  class_type  \n",
       "0          1           1  \n",
       "1          1           1  \n",
       "2          0           4  \n",
       "3          1           1  \n",
       "4          1           1  \n",
       "..       ...         ...  \n",
       "96         1           1  \n",
       "97         0           6  \n",
       "98         1           1  \n",
       "99         0           7  \n",
       "100        0           2  \n",
       "\n",
       "[101 rows x 18 columns]"
      ]
     },
     "execution_count": 279,
     "metadata": {},
     "output_type": "execute_result"
    }
   ],
   "source": [
    "zoo2 = zoo.copy()\n",
    "zoo2"
   ]
  },
  {
   "cell_type": "code",
   "execution_count": 280,
   "metadata": {},
   "outputs": [
    {
     "data": {
      "text/html": [
       "<div>\n",
       "<style scoped>\n",
       "    .dataframe tbody tr th:only-of-type {\n",
       "        vertical-align: middle;\n",
       "    }\n",
       "\n",
       "    .dataframe tbody tr th {\n",
       "        vertical-align: top;\n",
       "    }\n",
       "\n",
       "    .dataframe thead th {\n",
       "        text-align: right;\n",
       "    }\n",
       "</style>\n",
       "<table border=\"1\" class=\"dataframe\">\n",
       "  <thead>\n",
       "    <tr style=\"text-align: right;\">\n",
       "      <th></th>\n",
       "      <th>Class_Number</th>\n",
       "      <th>Number_Of_Animal_Species_In_Class</th>\n",
       "      <th>Class_Type</th>\n",
       "      <th>Animal_Names</th>\n",
       "    </tr>\n",
       "  </thead>\n",
       "  <tbody>\n",
       "    <tr>\n",
       "      <th>0</th>\n",
       "      <td>1</td>\n",
       "      <td>41</td>\n",
       "      <td>Mammal</td>\n",
       "      <td>aardvark, antelope, bear, boar, buffalo, calf,...</td>\n",
       "    </tr>\n",
       "    <tr>\n",
       "      <th>1</th>\n",
       "      <td>2</td>\n",
       "      <td>20</td>\n",
       "      <td>Bird</td>\n",
       "      <td>chicken, crow, dove, duck, flamingo, gull, haw...</td>\n",
       "    </tr>\n",
       "    <tr>\n",
       "      <th>2</th>\n",
       "      <td>3</td>\n",
       "      <td>5</td>\n",
       "      <td>Reptile</td>\n",
       "      <td>pitviper, seasnake, slowworm, tortoise, tuatara</td>\n",
       "    </tr>\n",
       "    <tr>\n",
       "      <th>3</th>\n",
       "      <td>4</td>\n",
       "      <td>13</td>\n",
       "      <td>Fish</td>\n",
       "      <td>bass, carp, catfish, chub, dogfish, haddock, h...</td>\n",
       "    </tr>\n",
       "    <tr>\n",
       "      <th>4</th>\n",
       "      <td>5</td>\n",
       "      <td>4</td>\n",
       "      <td>Amphibian</td>\n",
       "      <td>frog, frog, newt, toad</td>\n",
       "    </tr>\n",
       "    <tr>\n",
       "      <th>5</th>\n",
       "      <td>6</td>\n",
       "      <td>8</td>\n",
       "      <td>Bug</td>\n",
       "      <td>flea, gnat, honeybee, housefly, ladybird, moth...</td>\n",
       "    </tr>\n",
       "    <tr>\n",
       "      <th>6</th>\n",
       "      <td>7</td>\n",
       "      <td>10</td>\n",
       "      <td>Invertebrate</td>\n",
       "      <td>clam, crab, crayfish, lobster, octopus, scorpi...</td>\n",
       "    </tr>\n",
       "  </tbody>\n",
       "</table>\n",
       "</div>"
      ],
      "text/plain": [
       "   Class_Number  Number_Of_Animal_Species_In_Class    Class_Type  \\\n",
       "0             1                                 41        Mammal   \n",
       "1             2                                 20          Bird   \n",
       "2             3                                  5       Reptile   \n",
       "3             4                                 13          Fish   \n",
       "4             5                                  4     Amphibian   \n",
       "5             6                                  8           Bug   \n",
       "6             7                                 10  Invertebrate   \n",
       "\n",
       "                                        Animal_Names  \n",
       "0  aardvark, antelope, bear, boar, buffalo, calf,...  \n",
       "1  chicken, crow, dove, duck, flamingo, gull, haw...  \n",
       "2    pitviper, seasnake, slowworm, tortoise, tuatara  \n",
       "3  bass, carp, catfish, chub, dogfish, haddock, h...  \n",
       "4                             frog, frog, newt, toad  \n",
       "5  flea, gnat, honeybee, housefly, ladybird, moth...  \n",
       "6  clam, crab, crayfish, lobster, octopus, scorpi...  "
      ]
     },
     "execution_count": 280,
     "metadata": {},
     "output_type": "execute_result"
    }
   ],
   "source": [
    "class1.head(10)"
   ]
  },
  {
   "cell_type": "code",
   "execution_count": 281,
   "metadata": {},
   "outputs": [
    {
     "data": {
      "text/plain": [
       "animal_name    0\n",
       "hair           0\n",
       "feathers       0\n",
       "eggs           0\n",
       "milk           0\n",
       "airborne       0\n",
       "aquatic        0\n",
       "predator       0\n",
       "toothed        0\n",
       "backbone       0\n",
       "breathes       0\n",
       "venomous       0\n",
       "fins           0\n",
       "legs           0\n",
       "tail           0\n",
       "domestic       0\n",
       "catsize        0\n",
       "class_type     0\n",
       "dtype: int64"
      ]
     },
     "execution_count": 281,
     "metadata": {},
     "output_type": "execute_result"
    }
   ],
   "source": [
    "zoo.isnull().sum()"
   ]
  },
  {
   "cell_type": "code",
   "execution_count": 282,
   "metadata": {},
   "outputs": [
    {
     "data": {
      "text/plain": [
       "Class_Number                         0\n",
       "Number_Of_Animal_Species_In_Class    0\n",
       "Class_Type                           0\n",
       "Animal_Names                         0\n",
       "dtype: int64"
      ]
     },
     "execution_count": 282,
     "metadata": {},
     "output_type": "execute_result"
    }
   ],
   "source": [
    "class1.isnull().sum()"
   ]
  },
  {
   "cell_type": "code",
   "execution_count": 283,
   "metadata": {},
   "outputs": [],
   "source": [
    "#There are no missing values in the dataset"
   ]
  },
  {
   "cell_type": "code",
   "execution_count": 284,
   "metadata": {},
   "outputs": [],
   "source": [
    "y = zoo['class_type']"
   ]
  },
  {
   "cell_type": "code",
   "execution_count": 285,
   "metadata": {},
   "outputs": [],
   "source": [
    "zoo1 = zoo.drop(columns=['animal_name', 'class_type'])"
   ]
  },
  {
   "cell_type": "code",
   "execution_count": 286,
   "metadata": {},
   "outputs": [
    {
     "data": {
      "text/plain": [
       "PCA()"
      ]
     },
     "execution_count": 286,
     "metadata": {},
     "output_type": "execute_result"
    }
   ],
   "source": [
    "pca = PCA()\n",
    "zoo = pca.fit_transform(zoo1)\n",
    "pca.fit(zoo) # Learning / training"
   ]
  },
  {
   "cell_type": "code",
   "execution_count": 287,
   "metadata": {},
   "outputs": [
    {
     "data": {
      "text/plain": [
       "PCA()"
      ]
     },
     "execution_count": 287,
     "metadata": {},
     "output_type": "execute_result"
    }
   ],
   "source": [
    "pca.fit(zoo) # Learning / training"
   ]
  },
  {
   "cell_type": "code",
   "execution_count": 288,
   "metadata": {},
   "outputs": [
    {
     "data": {
      "text/plain": [
       "array([[ 1.35102851, -1.05853312,  0.31410259, ...,  0.22776438,\n",
       "         0.05746399,  0.04819587],\n",
       "       [ 1.30663411, -1.20834446, -0.28940524, ..., -0.00645594,\n",
       "        -0.003654  , -0.031995  ],\n",
       "       [-3.13165517,  0.25220045,  0.92941871, ...,  0.08950714,\n",
       "        -0.00613439,  0.01599322],\n",
       "       ...,\n",
       "       [ 1.27729583, -1.22574951,  0.12623911, ..., -0.02718482,\n",
       "        -0.01747613, -0.01449933],\n",
       "       [-2.62160156,  0.84538463, -0.44020121, ..., -0.19388607,\n",
       "        -0.11100554, -0.00721392],\n",
       "       [-0.87003814,  1.00958479, -1.3082922 , ...,  0.11598219,\n",
       "         0.06519472, -0.00965952]])"
      ]
     },
     "execution_count": 288,
     "metadata": {},
     "output_type": "execute_result"
    }
   ],
   "source": [
    "zoo"
   ]
  },
  {
   "cell_type": "code",
   "execution_count": 289,
   "metadata": {},
   "outputs": [
    {
     "data": {
      "text/plain": [
       "array([6.25615480e-01, 1.44969052e-01, 7.25316892e-02, 3.90853591e-02,\n",
       "       2.52571291e-02, 2.12712117e-02, 1.49124811e-02, 1.36876986e-02,\n",
       "       1.06283642e-02, 9.59018109e-03, 8.16760981e-03, 5.38981516e-03,\n",
       "       4.28633321e-03, 2.99551097e-03, 1.10195811e-03, 5.10126551e-04])"
      ]
     },
     "execution_count": 289,
     "metadata": {},
     "output_type": "execute_result"
    }
   ],
   "source": [
    "pca.explained_variance_ratio_"
   ]
  },
  {
   "cell_type": "code",
   "execution_count": 290,
   "metadata": {},
   "outputs": [
    {
     "data": {
      "text/plain": [
       "array([0.62561548, 0.77058453, 0.84311622, 0.88220158, 0.90745871,\n",
       "       0.92872992, 0.9436424 , 0.9573301 , 0.96795847, 0.97754865,\n",
       "       0.98571626, 0.99110607, 0.9953924 , 0.99838792, 0.99948987,\n",
       "       1.        ])"
      ]
     },
     "execution_count": 290,
     "metadata": {},
     "output_type": "execute_result"
    }
   ],
   "source": [
    "np.cumsum(pca.explained_variance_ratio_)"
   ]
  },
  {
   "cell_type": "code",
   "execution_count": 291,
   "metadata": {},
   "outputs": [
    {
     "data": {
      "text/plain": [
       "array([4.39219233e+00, 1.01776886e+00, 5.09215546e-01, 2.74402440e-01,\n",
       "       1.77320050e-01, 1.49336543e-01, 1.04694476e-01, 9.60957755e-02,\n",
       "       7.46174308e-02, 6.73287684e-02, 5.73414729e-02, 3.78397043e-02,\n",
       "       3.00926055e-02, 2.10302665e-02, 7.73640059e-03, 3.58139143e-03])"
      ]
     },
     "execution_count": 291,
     "metadata": {},
     "output_type": "execute_result"
    }
   ],
   "source": [
    "pca.explained_variance_"
   ]
  },
  {
   "cell_type": "code",
   "execution_count": 292,
   "metadata": {},
   "outputs": [
    {
     "data": {
      "text/plain": [
       "array([4.39219233, 5.40996119, 5.91917673, 6.19357917, 6.37089922,\n",
       "       6.52023577, 6.62493024, 6.72102602, 6.79564345, 6.86297222,\n",
       "       6.92031369, 6.9581534 , 6.988246  , 7.00927627, 7.01701267,\n",
       "       7.02059406])"
      ]
     },
     "execution_count": 292,
     "metadata": {},
     "output_type": "execute_result"
    }
   ],
   "source": [
    "np.cumsum(pca.explained_variance_)"
   ]
  },
  {
   "cell_type": "code",
   "execution_count": 293,
   "metadata": {},
   "outputs": [
    {
     "data": {
      "image/png": "[encoded data removed]",
      "text/plain": [
       "<Figure size 432x288 with 1 Axes>"
      ]
     },
     "metadata": {
      "needs_background": "light"
     },
     "output_type": "display_data"
    }
   ],
   "source": [
    "plt.plot(np.cumsum(pca.explained_variance_ratio_))\n",
    "plt.xlabel('number of components')\n",
    "plt.ylabel('cumulative explained variance');"
   ]
  },
  {
   "cell_type": "code",
   "execution_count": 294,
   "metadata": {},
   "outputs": [],
   "source": [
    "#From here it is clearly visible that the maximum variability is explained by 8 features from then onwards it tappers. \n",
    "#Hence we can take those into account and use the same for building our model"
   ]
  },
  {
   "cell_type": "code",
   "execution_count": 295,
   "metadata": {},
   "outputs": [],
   "source": [
    "pca = PCA(n_components=8)\n",
    "zoo_x_prime = pca.fit_transform(zoo)"
   ]
  },
  {
   "cell_type": "code",
   "execution_count": 296,
   "metadata": {},
   "outputs": [
    {
     "data": {
      "text/plain": [
       "array([[ 1.35102851e+00, -1.05853312e+00,  3.14102592e-01,\n",
       "        -4.74432804e-02,  7.22133879e-01, -7.25684382e-02,\n",
       "         1.93097617e-01, -2.63609397e-03],\n",
       "       [ 1.30663411e+00, -1.20834446e+00, -2.89405242e-01,\n",
       "         1.18023825e-01, -2.18509020e-01, -2.85344483e-01,\n",
       "        -1.89076917e-01, -3.15514036e-01],\n",
       "       [-3.13165517e+00,  2.52200446e-01,  9.29418707e-01,\n",
       "         8.17237403e-02, -3.89770531e-01,  2.66292486e-01,\n",
       "        -8.56332005e-03, -2.16674313e-02],\n",
       "       [ 1.35102851e+00, -1.05853312e+00,  3.14102592e-01,\n",
       "        -4.74432804e-02,  7.22133879e-01, -7.25684382e-02,\n",
       "         1.93097617e-01, -2.63609397e-03],\n",
       "       [ 1.27729583e+00, -1.22574951e+00,  1.26239109e-01,\n",
       "        -4.42240813e-01,  2.18646697e-01,  1.25204042e-01,\n",
       "        -9.69339956e-02, -4.35679868e-02],\n",
       "       [ 1.30663411e+00, -1.20834446e+00, -2.89405242e-01,\n",
       "         1.18023825e-01, -2.18509020e-01, -2.85344483e-01,\n",
       "        -1.89076917e-01, -3.15514036e-01],\n",
       "       [ 1.32106857e+00, -1.25764259e+00, -4.21602784e-01,\n",
       "         2.96659602e-01, -4.14956067e-01, -3.94075594e-01,\n",
       "        -7.33415004e-02,  5.95851872e-01],\n",
       "       [-3.08788243e+00,  2.20307365e-01,  3.81576814e-01,\n",
       "         8.20624156e-01, -1.02337329e+00, -2.52987150e-01,\n",
       "         1.50291752e-02,  6.17752427e-01],\n",
       "       [-3.13165517e+00,  2.52200446e-01,  9.29418707e-01,\n",
       "         8.17237403e-02, -3.89770531e-01,  2.66292486e-01,\n",
       "        -8.56332005e-03, -2.16674313e-02],\n",
       "       [ 1.37362871e+00, -7.71043594e-01, -2.64542753e-01,\n",
       "         1.08655033e+00, -7.31270601e-02,  1.73132240e-01,\n",
       "         2.99801821e-01,  5.93132594e-01],\n",
       "       [ 1.27729583e+00, -1.22574951e+00,  1.26239109e-01,\n",
       "        -4.42240813e-01,  2.18646697e-01,  1.25204042e-01,\n",
       "        -9.69339956e-02, -4.35679868e-02],\n",
       "       [-8.55603680e-01,  9.60286663e-01, -1.44048974e+00,\n",
       "         3.71229453e-02, -3.54895922e-01, -1.88627351e-02,\n",
       "         9.03416398e-02,  6.89151382e-01],\n",
       "       [-3.13165517e+00,  2.52200446e-01,  9.29418707e-01,\n",
       "         8.17237403e-02, -3.89770531e-01,  2.66292486e-01,\n",
       "        -8.56332005e-03, -2.16674313e-02],\n",
       "       [-2.73070318e+00,  9.40053872e-01,  3.57182724e-01,\n",
       "         7.55522543e-01,  1.33446160e+00, -4.63426868e-02,\n",
       "        -3.32873757e-01,  1.60051264e-01],\n",
       "       [ 1.04663381e+00,  1.39432518e+00,  1.20986317e+00,\n",
       "         1.83746853e-01,  3.10850184e-01, -1.28225861e-01,\n",
       "         1.41721330e-01,  6.39145048e-02],\n",
       "       [ 2.98225622e+00,  1.55844133e+00,  1.41892651e+00,\n",
       "        -1.55704640e-02, -3.49025205e-02, -1.02285709e-01,\n",
       "         1.04476163e-01,  5.86541699e-02],\n",
       "       [-8.99376423e-01,  9.92179745e-01, -8.92647848e-01,\n",
       "        -7.01777470e-01,  2.78706841e-01,  5.00416901e-01,\n",
       "         6.67491446e-02,  4.97315235e-02],\n",
       "       [ 1.30663411e+00, -1.20834446e+00, -2.89405242e-01,\n",
       "         1.18023825e-01, -2.18509020e-01, -2.85344483e-01,\n",
       "        -1.89076917e-01, -3.15514036e-01],\n",
       "       [-3.11048263e+00, -6.71821663e-02,  9.60222158e-01,\n",
       "        -3.13369456e-01, -2.28112355e-01, -4.98687828e-01,\n",
       "        -9.16750284e-02,  2.19837394e-02],\n",
       "       [-2.90602390e+00, -1.07047047e+00,  4.87956652e-01,\n",
       "        -3.44852494e-01,  1.73932571e-01, -2.31555395e-01,\n",
       "         3.20193434e-01, -1.48669516e-01],\n",
       "       [-8.55603680e-01,  9.60286663e-01, -1.44048974e+00,\n",
       "         3.71229453e-02, -3.54895922e-01, -1.88627351e-02,\n",
       "         9.03416398e-02,  6.89151382e-01],\n",
       "       [-9.63945960e-01,  1.13562381e+00, -8.73738441e-01,\n",
       "        -3.14653888e-01, -4.90554883e-01, -4.38951031e-02,\n",
       "         5.23691643e-01, -3.07830615e-01],\n",
       "       [ 1.30663411e+00, -1.20834446e+00, -2.89405242e-01,\n",
       "         1.18023825e-01, -2.18509020e-01, -2.85344483e-01,\n",
       "        -1.89076917e-01, -3.15514036e-01],\n",
       "       [-8.48865602e-01,  6.90202178e-01, -1.27748875e+00,\n",
       "        -5.36606028e-01,  3.20930019e-03, -6.75111939e-01,\n",
       "        -1.08505485e-01, -1.78563355e-01],\n",
       "       [ 3.18526565e+00,  1.33773307e+00,  1.86988816e-01,\n",
       "         6.01959079e-01,  6.22028020e-02, -2.54831654e-01,\n",
       "        -4.96245175e-01, -2.29405057e-01],\n",
       "       [ 1.00669275e+00,  6.61572515e-01,  9.05520917e-01,\n",
       "        -7.91674119e-02, -8.26685661e-02,  3.95476767e-01,\n",
       "         1.01915834e-01, -1.81282773e-02],\n",
       "       [ 1.00893156e+00,  7.11701796e-01,  9.76270560e-01,\n",
       "        -5.60252429e-03,  1.21643703e-02,  5.49465314e-01,\n",
       "         8.49553720e-02,  1.94724569e-01],\n",
       "       [-6.41442010e-01, -8.39880500e-01, -9.13005948e-01,\n",
       "         6.26961440e-01, -8.55641266e-02,  5.51846322e-01,\n",
       "         5.21278866e-01, -4.41761540e-01],\n",
       "       [ 1.30663411e+00, -1.20834446e+00, -2.89405242e-01,\n",
       "         1.18023825e-01, -2.18509020e-01, -2.85344483e-01,\n",
       "        -1.89076917e-01, -3.15514036e-01],\n",
       "       [-5.70159436e-01, -1.27194740e+00, -2.71582926e-02,\n",
       "         3.30509813e-01,  8.71439537e-01, -2.07239701e-01,\n",
       "         3.46078200e-01,  9.13990149e-01],\n",
       "       [ 3.19398449e+00,  1.55093057e+00, -1.96745095e-01,\n",
       "         5.16486181e-01,  1.10531670e-02, -1.56681011e-01,\n",
       "         9.37537330e-02, -3.17261725e-01],\n",
       "       [ 1.32106857e+00, -1.25764259e+00, -4.21602784e-01,\n",
       "         2.96659602e-01, -4.14956067e-01, -3.94075594e-01,\n",
       "        -7.33415004e-02,  5.95851872e-01],\n",
       "       [-5.55255620e-01, -1.20524423e+00, -3.10605102e-01,\n",
       "         7.12138674e-01,  6.30730867e-01, -5.09057115e-01,\n",
       "         1.38199863e-01, -2.69321809e-01],\n",
       "       [-9.93284240e-01,  1.11821876e+00, -4.58094090e-01,\n",
       "        -8.74918527e-01, -5.33991655e-02,  3.66653422e-01,\n",
       "         6.15834564e-01, -3.58845659e-02],\n",
       "       [-3.10231689e+00,  2.69605492e-01,  5.13774356e-01,\n",
       "         6.41988379e-01, -8.26926248e-01, -1.44256039e-01,\n",
       "        -1.00706241e-01, -2.93613481e-01],\n",
       "       [ 1.29989603e+00, -9.38259975e-01, -4.52406236e-01,\n",
       "         6.91752798e-01, -5.76614243e-01,  3.70904720e-01,\n",
       "         9.77020800e-03,  5.52200701e-01],\n",
       "       [ 1.28546156e+00, -8.88961848e-01, -3.20208694e-01,\n",
       "         5.13117021e-01, -3.80167196e-01,  4.79635831e-01,\n",
       "        -1.05965208e-01, -3.59165207e-01],\n",
       "       [-8.99376423e-01,  9.92179745e-01, -8.92647848e-01,\n",
       "        -7.01777470e-01,  2.78706841e-01,  5.00416901e-01,\n",
       "         6.67491446e-02,  4.97315235e-02],\n",
       "       [-3.13165517e+00,  2.52200446e-01,  9.29418707e-01,\n",
       "         8.17237403e-02, -3.89770531e-01,  2.66292486e-01,\n",
       "        -8.56332005e-03, -2.16674313e-02],\n",
       "       [ 3.31521776e+00,  1.16829173e+00, -3.55335092e-01,\n",
       "         9.37970002e-01,  2.05874261e-02, -9.11452759e-02,\n",
       "         5.44546137e-01,  7.62105941e-01],\n",
       "       [ 3.29854449e+00,  1.16746058e+00, -2.93887193e-01,\n",
       "         6.85769337e-01,  1.22201536e-01, -1.36402712e-01,\n",
       "         4.45771183e-01, -3.62112814e-01],\n",
       "       [-9.08095255e-01,  7.78982251e-01, -5.08913937e-01,\n",
       "        -6.16304572e-01,  3.29856476e-01,  4.02266257e-01,\n",
       "        -5.23249763e-01,  1.37588192e-01],\n",
       "       [ 3.16464621e+00,  1.53352552e+00,  2.18899256e-01,\n",
       "        -4.37784578e-02,  4.48208884e-01,  2.53867514e-01,\n",
       "         1.85896654e-01, -4.53156759e-02],\n",
       "       [-8.70038144e-01,  1.00958479e+00, -1.30829220e+00,\n",
       "        -1.41512832e-01, -1.58448876e-01,  8.98683756e-02,\n",
       "        -2.53937765e-02, -2.22214526e-01],\n",
       "       [ 1.27729583e+00, -1.22574951e+00,  1.26239109e-01,\n",
       "        -4.42240813e-01,  2.18646697e-01,  1.25204042e-01,\n",
       "        -9.69339956e-02, -4.35679868e-02],\n",
       "       [ 1.27729583e+00, -1.22574951e+00,  1.26239109e-01,\n",
       "        -4.42240813e-01,  2.18646697e-01,  1.25204042e-01,\n",
       "        -9.69339956e-02, -4.35679868e-02],\n",
       "       [ 2.98225622e+00,  1.55844133e+00,  1.41892651e+00,\n",
       "        -1.55704640e-02, -3.49025205e-02, -1.02285709e-01,\n",
       "         1.04476163e-01,  5.86541699e-02],\n",
       "       [ 1.27729583e+00, -1.22574951e+00,  1.26239109e-01,\n",
       "        -4.42240813e-01,  2.18646697e-01,  1.25204042e-01,\n",
       "        -9.69339956e-02, -4.35679868e-02],\n",
       "       [ 1.18338801e+00, -1.09971049e+00,  5.60792867e-01,\n",
       "        -6.15381870e-01, -1.13459310e-01, -8.55943697e-03,\n",
       "         4.52151424e-01, -1.29184076e-01],\n",
       "       [ 1.25612328e+00, -9.06366893e-01,  9.54356568e-02,\n",
       "        -4.71476173e-02,  5.69885208e-02,  8.90184356e-01,\n",
       "        -1.38222872e-02, -8.72191575e-02],\n",
       "       [ 1.27729583e+00, -1.22574951e+00,  1.26239109e-01,\n",
       "        -4.42240813e-01,  2.18646697e-01,  1.25204042e-01,\n",
       "        -9.69339956e-02, -4.35679868e-02],\n",
       "       [ 3.29854449e+00,  1.16746058e+00, -2.93887193e-01,\n",
       "         6.85769337e-01,  1.22201536e-01, -1.36402712e-01,\n",
       "         4.45771183e-01, -3.62112814e-01],\n",
       "       [ 9.32960071e-01,  4.94356134e-01,  7.17657434e-01,\n",
       "        -4.73964945e-01, -5.86155749e-01,  5.93249247e-01,\n",
       "        -1.88115779e-01, -5.90601701e-02],\n",
       "       [ 4.93905117e+00,  1.40317486e+00,  1.65879331e+00,\n",
       "        -6.09980977e-01, -2.18997049e-01, -8.41325871e-01,\n",
       "        -1.58807114e-02,  9.70450057e-02],\n",
       "       [ 1.25612328e+00, -9.06366893e-01,  9.54356568e-02,\n",
       "        -4.71476173e-02,  5.69885208e-02,  8.90184356e-01,\n",
       "        -1.38222872e-02, -8.72191575e-02],\n",
       "       [ 1.30663411e+00, -1.20834446e+00, -2.89405242e-01,\n",
       "         1.18023825e-01, -2.18509020e-01, -2.85344483e-01,\n",
       "        -1.89076917e-01, -3.15514036e-01],\n",
       "       [-8.57584433e-01,  4.77004684e-01, -8.93754836e-01,\n",
       "        -4.51133130e-01,  5.43589352e-02, -7.73262582e-01,\n",
       "        -6.98504393e-01, -9.07066873e-02],\n",
       "       [-8.55603680e-01,  9.60286663e-01, -1.44048974e+00,\n",
       "         3.71229453e-02, -3.54895922e-01, -1.88627351e-02,\n",
       "         9.03416398e-02,  6.89151382e-01],\n",
       "       [-9.80830530e-01,  5.85638656e-01, -4.35567268e-02,\n",
       "        -1.18453883e+00,  1.59408645e-01, -4.96477536e-01,\n",
       "        -5.72760523e-02,  9.56232729e-02],\n",
       "       [-8.70038144e-01,  1.00958479e+00, -1.30829220e+00,\n",
       "        -1.41512832e-01, -1.58448876e-01,  8.98683756e-02,\n",
       "        -2.53937765e-02, -2.22214526e-01],\n",
       "       [-3.11048263e+00, -6.71821663e-02,  9.60222158e-01,\n",
       "        -3.13369456e-01, -2.28112355e-01, -4.98687828e-01,\n",
       "        -9.16750284e-02,  2.19837394e-02],\n",
       "       [-3.13165517e+00,  2.52200446e-01,  9.29418707e-01,\n",
       "         8.17237403e-02, -3.89770531e-01,  2.66292486e-01,\n",
       "        -8.56332005e-03, -2.16674313e-02],\n",
       "       [-2.84213812e+00,  9.02141046e-02, -6.42733679e-02,\n",
       "         1.71375633e-01,  5.32288604e-01,  8.29120968e-01,\n",
       "        -6.79671327e-01,  2.49929436e-01],\n",
       "       [ 1.16178915e+00, -2.60227080e-01,  3.76487323e-01,\n",
       "        -8.03101855e-01,  6.45927458e-02, -3.96351475e-01,\n",
       "         3.87059156e-01, -1.05787018e-01],\n",
       "       [ 1.27729583e+00, -1.22574951e+00,  1.26239109e-01,\n",
       "        -4.42240813e-01,  2.18646697e-01,  1.25204042e-01,\n",
       "        -9.69339956e-02, -4.35679868e-02],\n",
       "       [ 1.32106857e+00, -1.25764259e+00, -4.21602784e-01,\n",
       "         2.96659602e-01, -4.14956067e-01, -3.94075594e-01,\n",
       "        -7.33415004e-02,  5.95851872e-01],\n",
       "       [-2.90602390e+00, -1.07047047e+00,  4.87956652e-01,\n",
       "        -3.44852494e-01,  1.73932571e-01, -2.31555395e-01,\n",
       "         3.20193434e-01, -1.48669516e-01],\n",
       "       [ 1.27729583e+00, -1.22574951e+00,  1.26239109e-01,\n",
       "        -4.42240813e-01,  2.18646697e-01,  1.25204042e-01,\n",
       "        -9.69339956e-02, -4.35679868e-02],\n",
       "       [ 1.29173029e+00, -1.27504763e+00, -5.95843329e-03,\n",
       "        -2.63605037e-01,  2.21996503e-02,  1.64729310e-02,\n",
       "         1.88014207e-02,  8.67797921e-01],\n",
       "       [ 1.27729583e+00, -1.22574951e+00,  1.26239109e-01,\n",
       "        -4.42240813e-01,  2.18646697e-01,  1.25204042e-01,\n",
       "        -9.69339956e-02, -4.35679868e-02],\n",
       "       [ 1.32106857e+00, -1.25764259e+00, -4.21602784e-01,\n",
       "         2.96659602e-01, -4.14956067e-01, -3.94075594e-01,\n",
       "        -7.33415004e-02,  5.95851872e-01],\n",
       "       [-8.86922713e-01,  4.59599638e-01, -4.78110485e-01,\n",
       "        -1.01139777e+00,  4.91514652e-01, -3.62714057e-01,\n",
       "        -6.06361472e-01,  1.81239362e-01],\n",
       "       [ 5.08350711e+00,  9.27032515e-01,  6.59130995e-01,\n",
       "        -4.26773463e-01, -1.58740937e-01,  6.63850722e-01,\n",
       "        -6.12034934e-01,  2.04480173e-01],\n",
       "       [-3.10231689e+00,  2.69605492e-01,  5.13774356e-01,\n",
       "         6.41988379e-01, -8.26926248e-01, -1.44256039e-01,\n",
       "        -1.00706241e-01, -2.93613481e-01],\n",
       "       [-2.72773122e+00, -1.28672408e+00,  5.78678037e-01,\n",
       "         2.19228195e-01,  7.88568123e-01, -4.09049576e-01,\n",
       "         9.62242497e-01, -1.52588712e-01],\n",
       "       [-8.65841491e-01, -1.28982431e+00,  5.99877897e-01,\n",
       "        -3.74886654e-01, -6.06717644e-02, -1.85336944e-01,\n",
       "         6.34965718e-01, -1.98780939e-01],\n",
       "       [-2.95235807e+00, -1.11997157e-01,  7.16568302e-01,\n",
       "         1.66192788e-01,  9.43350596e-02,  7.01551061e-01,\n",
       "        -3.47883492e-02,  2.61321175e-01],\n",
       "       [-2.82237219e+00,  1.11622217e+00,  8.62486125e-01,\n",
       "         6.55946373e-01,  1.09718853e+00, -2.61176185e-02,\n",
       "         1.99251201e-01,  2.87288021e-01],\n",
       "       [-9.93284240e-01,  1.11821876e+00, -4.58094090e-01,\n",
       "        -8.74918527e-01, -5.33991655e-02,  3.66653422e-01,\n",
       "         6.15834564e-01, -3.58845659e-02],\n",
       "       [-9.93284240e-01,  1.11821876e+00, -4.58094090e-01,\n",
       "        -8.74918527e-01, -5.33991655e-02,  3.66653422e-01,\n",
       "         6.15834564e-01, -3.58845659e-02],\n",
       "       [-2.84437693e+00,  4.00848235e-02, -1.35023010e-01,\n",
       "         9.78107450e-02,  4.37455668e-01,  6.75132421e-01,\n",
       "        -6.62710865e-01,  3.70765891e-02],\n",
       "       [-2.62160156e+00,  8.45384634e-01, -4.40201213e-01,\n",
       "         1.19991103e+00,  1.09946092e+00, -3.32652110e-01,\n",
       "        -3.84509676e-01, -2.13624053e-01],\n",
       "       [-3.10231689e+00,  2.69605492e-01,  5.13774356e-01,\n",
       "         6.41988379e-01, -8.26926248e-01, -1.44256039e-01,\n",
       "        -1.00706241e-01, -2.93613481e-01],\n",
       "       [-8.70038144e-01,  1.00958479e+00, -1.30829220e+00,\n",
       "        -1.41512832e-01, -1.58448876e-01,  8.98683756e-02,\n",
       "        -2.53937765e-02, -2.22214526e-01],\n",
       "       [-6.50160842e-01, -1.05307799e+00, -5.29272037e-01,\n",
       "         7.12434338e-01, -3.44144917e-02,  4.53695679e-01,\n",
       "        -6.87200419e-02, -3.53904872e-01],\n",
       "       [ 2.01444502e+00,  1.47638326e+00,  1.31439484e+00,\n",
       "         8.40881943e-02,  1.37973832e-01, -1.15255785e-01,\n",
       "         1.23098747e-01,  6.12843374e-02],\n",
       "       [-3.10824382e+00, -1.70528852e-02,  1.03097180e+00,\n",
       "        -2.39804568e-01, -1.33279418e-01, -3.44699281e-01,\n",
       "        -1.08635491e-01,  2.34836586e-01],\n",
       "       [-9.42773418e-01,  8.16241195e-01, -8.42934989e-01,\n",
       "        -7.09747085e-01, -3.28896707e-01, -8.08875417e-01,\n",
       "         4.40579935e-01, -2.64179445e-01],\n",
       "       [ 3.18526565e+00,  1.33773307e+00,  1.86988816e-01,\n",
       "         6.01959079e-01,  6.22028020e-02, -2.54831654e-01,\n",
       "        -4.96245175e-01, -2.29405057e-01],\n",
       "       [ 1.03603103e+00,  6.78977561e-01,  4.89876566e-01,\n",
       "         4.81097226e-01, -5.19824283e-01, -1.50717583e-02,\n",
       "         9.77291313e-03, -2.90074327e-01],\n",
       "       [ 1.11923105e+00,  4.65498397e-01, -3.21494441e-01,\n",
       "        -2.71290371e-01, -2.55187732e-01, -7.05875479e-01,\n",
       "        -8.41243534e-01, -1.83063339e-01],\n",
       "       [ 1.02686789e+00,  3.68317117e-01,  2.83103676e-01,\n",
       "        -3.00823888e-01, -2.54049742e-01,  7.27012725e-01,\n",
       "        -7.37201198e-01,  2.65559193e-02],\n",
       "       [-3.11048263e+00, -6.71821663e-02,  9.60222158e-01,\n",
       "        -3.13369456e-01, -2.28112355e-01, -4.98687828e-01,\n",
       "        -9.16750284e-02,  2.19837394e-02],\n",
       "       [-6.41442010e-01, -8.39880500e-01, -9.13005948e-01,\n",
       "         6.26961440e-01, -8.55641266e-02,  5.51846322e-01,\n",
       "         5.21278866e-01, -4.41761540e-01],\n",
       "       [ 1.28546156e+00, -8.88961848e-01, -3.20208694e-01,\n",
       "         5.13117021e-01, -3.80167196e-01,  4.79635831e-01,\n",
       "        -1.05965208e-01, -3.59165207e-01],\n",
       "       [-8.78203881e-01,  6.72797132e-01, -8.61844396e-01,\n",
       "        -1.09687067e+00,  4.40365017e-01, -2.64563414e-01,\n",
       "        -1.63625638e-02,  9.33826942e-02],\n",
       "       [-6.28988300e-01, -1.37246061e+00, -4.98468585e-01,\n",
       "         3.17341141e-01,  1.27243684e-01, -3.11284635e-01,\n",
       "        -1.51831750e-01, -3.10253701e-01],\n",
       "       [ 3.30078330e+00,  1.21758986e+00, -2.23137551e-01,\n",
       "         7.59334225e-01,  2.17034472e-01,  1.75858348e-02,\n",
       "         4.28810721e-01, -1.49259967e-01],\n",
       "       [ 1.27729583e+00, -1.22574951e+00,  1.26239109e-01,\n",
       "        -4.42240813e-01,  2.18646697e-01,  1.25204042e-01,\n",
       "        -9.69339956e-02, -4.35679868e-02],\n",
       "       [-2.62160156e+00,  8.45384634e-01, -4.40201213e-01,\n",
       "         1.19991103e+00,  1.09946092e+00, -3.32652110e-01,\n",
       "        -3.84509676e-01, -2.13624053e-01],\n",
       "       [-8.70038144e-01,  1.00958479e+00, -1.30829220e+00,\n",
       "        -1.41512832e-01, -1.58448876e-01,  8.98683756e-02,\n",
       "        -2.53937765e-02, -2.22214526e-01]])"
      ]
     },
     "execution_count": 296,
     "metadata": {},
     "output_type": "execute_result"
    }
   ],
   "source": [
    "zoo_x_prime"
   ]
  },
  {
   "cell_type": "code",
   "execution_count": 297,
   "metadata": {},
   "outputs": [
    {
     "data": {
      "text/plain": [
       "(101, 8)"
      ]
     },
     "execution_count": 297,
     "metadata": {},
     "output_type": "execute_result"
    }
   ],
   "source": [
    "zoo_x_prime.shape"
   ]
  },
  {
   "cell_type": "code",
   "execution_count": 298,
   "metadata": {},
   "outputs": [],
   "source": [
    "from sklearn.preprocessing import scale\n",
    "zoo_x_scaled = scale(zoo)"
   ]
  },
  {
   "cell_type": "code",
   "execution_count": 299,
   "metadata": {},
   "outputs": [
    {
     "data": {
      "image/png": "[encoded data removed]",
      "text/plain": [
       "<Figure size 1440x504 with 2 Axes>"
      ]
     },
     "metadata": {
      "needs_background": "light"
     },
     "output_type": "display_data"
    }
   ],
   "source": [
    "fig = plt.figure(figsize=(20,7))\n",
    "\n",
    "ax = fig.add_subplot(121)\n",
    "ax.scatter(zoo[:,0],zoo[:,1],c=y,s=40)\n",
    "ax.set_title('Before PCA')\n",
    "\n",
    "ax2 = fig.add_subplot(122)\n",
    "ax2.scatter(zoo_x_prime[:,0],zoo_x_prime[:,1],c=y,s=40)\n",
    "ax2.set_title('After PCA')\n",
    "plt.show()"
   ]
  },
  {
   "cell_type": "code",
   "execution_count": 300,
   "metadata": {},
   "outputs": [
    {
     "data": {
      "text/plain": [
       "0.9573301008537259"
      ]
     },
     "execution_count": 300,
     "metadata": {},
     "output_type": "execute_result"
    }
   ],
   "source": [
    "pca = PCA(n_components=0.95)\n",
    "zoo_x_prime = pca.fit(zoo).transform(zoo)\n",
    "pca.explained_variance_ratio_.sum()"
   ]
  },
  {
   "cell_type": "code",
   "execution_count": 301,
   "metadata": {},
   "outputs": [
    {
     "data": {
      "text/plain": [
       "array([[ 1.00000000e+00,  0.00000000e+00,  0.00000000e+00,\n",
       "         0.00000000e+00,  0.00000000e+00,  0.00000000e+00,\n",
       "        -0.00000000e+00, -0.00000000e+00, -0.00000000e+00,\n",
       "        -0.00000000e+00, -0.00000000e+00, -0.00000000e+00,\n",
       "        -0.00000000e+00, -0.00000000e+00, -0.00000000e+00,\n",
       "        -0.00000000e+00],\n",
       "       [-0.00000000e+00,  1.00000000e+00, -1.71963237e-16,\n",
       "         1.52685321e-17,  5.43571402e-17, -5.99052898e-17,\n",
       "        -1.39184747e-16, -3.32519557e-18,  2.39384426e-17,\n",
       "         3.48812549e-17, -5.29663959e-17, -3.78162304e-17,\n",
       "         2.39384426e-17, -5.08951069e-18, -5.59439054e-18,\n",
       "        -1.95110055e-18],\n",
       "       [-0.00000000e+00,  1.04465536e-16,  1.00000000e+00,\n",
       "         5.47381242e-16, -3.46213752e-17,  4.03449851e-17,\n",
       "        -7.47500357e-16, -4.59793089e-17, -7.95994358e-17,\n",
       "        -2.15072846e-16,  6.28963902e-17,  1.64600886e-16,\n",
       "        -2.07968973e-16, -2.59366488e-16,  1.03836103e-17,\n",
       "         1.27135188e-16],\n",
       "       [-0.00000000e+00,  2.50902418e-17, -5.68335015e-16,\n",
       "         1.00000000e+00, -1.66290144e-15, -4.01072717e-16,\n",
       "         2.79664115e-16,  1.96153297e-16,  2.61169593e-16,\n",
       "         1.98398908e-16, -9.48940234e-17,  1.72535246e-17,\n",
       "         1.02442395e-16,  2.33156134e-16, -3.06946352e-17,\n",
       "         3.36510096e-17],\n",
       "       [ 0.00000000e+00,  1.60525282e-16, -3.74475876e-16,\n",
       "         1.60914249e-15,  1.00000000e+00,  2.06073801e-15,\n",
       "         4.27988991e-16,  5.01891014e-16,  4.53800412e-16,\n",
       "         3.67039689e-16, -6.68415701e-16, -3.41910747e-16,\n",
       "         2.01398146e-16,  2.28343101e-16,  4.94183412e-17,\n",
       "        -3.31247394e-16],\n",
       "       [ 0.00000000e+00,  1.03516631e-16, -7.98674235e-17,\n",
       "         6.00410331e-16, -2.24069000e-15,  1.00000000e+00,\n",
       "        -7.74337543e-16, -2.23742499e-16, -1.20958495e-15,\n",
       "        -4.14097881e-16, -1.21759376e-16, -3.93082706e-16,\n",
       "         5.95821174e-17, -1.64729290e-17,  2.75719655e-17,\n",
       "        -1.00133103e-16],\n",
       "       [ 0.00000000e+00,  8.10767598e-18,  7.14247375e-16,\n",
       "        -2.52461105e-16, -2.67020931e-16,  1.06814617e-15,\n",
       "         1.00000000e+00, -1.47171184e-15, -3.54085720e-16,\n",
       "         4.49970451e-17,  7.02986882e-16, -3.76232864e-16,\n",
       "         1.40310471e-16,  4.82272739e-16, -8.56267053e-17,\n",
       "        -1.33409301e-16],\n",
       "       [-0.00000000e+00, -6.16789339e-18,  4.31833268e-18,\n",
       "        -2.26291307e-16, -4.35722863e-16,  3.29124587e-16,\n",
       "         1.59621986e-15,  1.00000000e+00, -9.43278417e-16,\n",
       "         1.54735321e-15, -6.33321681e-16, -1.32683819e-16,\n",
       "         1.84183423e-16,  2.40771267e-16,  1.32492321e-16,\n",
       "         1.42129086e-16]])"
      ]
     },
     "execution_count": 301,
     "metadata": {},
     "output_type": "execute_result"
    }
   ],
   "source": [
    "pca.components_"
   ]
  },
  {
   "cell_type": "markdown",
   "metadata": {},
   "source": [
    "## PCA with standardization of data"
   ]
  },
  {
   "cell_type": "code",
   "execution_count": 302,
   "metadata": {},
   "outputs": [],
   "source": [
    "from sklearn.preprocessing import scale"
   ]
  },
  {
   "cell_type": "code",
   "execution_count": 303,
   "metadata": {},
   "outputs": [],
   "source": [
    "zoo_X_scaled = scale(zoo)\n",
    "pca = PCA(n_components=8)\n",
    "zoo_X_scaled_prime = pca.fit_transform(zoo_X_scaled)"
   ]
  },
  {
   "cell_type": "code",
   "execution_count": 304,
   "metadata": {},
   "outputs": [
    {
     "data": {
      "image/png": "[encoded data removed]",
      "text/plain": [
       "<Figure size 1440x504 with 2 Axes>"
      ]
     },
     "metadata": {
      "needs_background": "light"
     },
     "output_type": "display_data"
    }
   ],
   "source": [
    "fig = plt.figure(figsize=(20,7))\n",
    "\n",
    "ax = fig.add_subplot(121)\n",
    "ax.scatter(zoo_x_prime[:,0],zoo_x_prime[:,1],c=y,s=40)\n",
    "ax.set_title('Regular PCA')\n",
    "\n",
    "ax2 = fig.add_subplot(122)\n",
    "ax2.scatter(zoo_X_scaled_prime[:,0],zoo_X_scaled_prime[:,1],c=y,s=40)\n",
    "ax2.set_title('Scaling followed by PCA')\n",
    "plt.show()"
   ]
  },
  {
   "cell_type": "code",
   "execution_count": 305,
   "metadata": {},
   "outputs": [],
   "source": [
    "# Here dimentionality is not that much and the data set is not that large hence using PCA wont stmake a greater difference. \n",
    "#Still we can select 8 features herev which is giving highest variability"
   ]
  },
  {
   "cell_type": "markdown",
   "metadata": {},
   "source": [
    "# Applying KNN Model"
   ]
  },
  {
   "cell_type": "code",
   "execution_count": 312,
   "metadata": {},
   "outputs": [
    {
     "data": {
      "text/plain": [
       "Index(['animal_name', 'hair', 'feathers', 'eggs', 'milk', 'airborne',\n",
       "       'aquatic', 'predator', 'toothed', 'class_type'],\n",
       "      dtype='object')"
      ]
     },
     "execution_count": 312,
     "metadata": {},
     "output_type": "execute_result"
    }
   ],
   "source": [
    "zoo2.columns.unique()"
   ]
  },
  {
   "cell_type": "code",
   "execution_count": 307,
   "metadata": {},
   "outputs": [],
   "source": [
    "#Now we are using the features which are using the maximum variablity and taking them only in our model. "
   ]
  },
  {
   "cell_type": "code",
   "execution_count": null,
   "metadata": {},
   "outputs": [],
   "source": [
    "zoo2 = zoo2.drop(columns=['animal_name'])"
   ]
  },
  {
   "cell_type": "code",
   "execution_count": 316,
   "metadata": {},
   "outputs": [
    {
     "data": {
      "text/html": [
       "<div>\n",
       "<style scoped>\n",
       "    .dataframe tbody tr th:only-of-type {\n",
       "        vertical-align: middle;\n",
       "    }\n",
       "\n",
       "    .dataframe tbody tr th {\n",
       "        vertical-align: top;\n",
       "    }\n",
       "\n",
       "    .dataframe thead th {\n",
       "        text-align: right;\n",
       "    }\n",
       "</style>\n",
       "<table border=\"1\" class=\"dataframe\">\n",
       "  <thead>\n",
       "    <tr style=\"text-align: right;\">\n",
       "      <th></th>\n",
       "      <th>hair</th>\n",
       "      <th>feathers</th>\n",
       "      <th>eggs</th>\n",
       "      <th>milk</th>\n",
       "      <th>airborne</th>\n",
       "      <th>aquatic</th>\n",
       "      <th>predator</th>\n",
       "      <th>toothed</th>\n",
       "      <th>class_type</th>\n",
       "    </tr>\n",
       "  </thead>\n",
       "  <tbody>\n",
       "    <tr>\n",
       "      <th>0</th>\n",
       "      <td>1</td>\n",
       "      <td>0</td>\n",
       "      <td>0</td>\n",
       "      <td>1</td>\n",
       "      <td>0</td>\n",
       "      <td>0</td>\n",
       "      <td>1</td>\n",
       "      <td>1</td>\n",
       "      <td>1</td>\n",
       "    </tr>\n",
       "    <tr>\n",
       "      <th>1</th>\n",
       "      <td>1</td>\n",
       "      <td>0</td>\n",
       "      <td>0</td>\n",
       "      <td>1</td>\n",
       "      <td>0</td>\n",
       "      <td>0</td>\n",
       "      <td>0</td>\n",
       "      <td>1</td>\n",
       "      <td>1</td>\n",
       "    </tr>\n",
       "    <tr>\n",
       "      <th>2</th>\n",
       "      <td>0</td>\n",
       "      <td>0</td>\n",
       "      <td>1</td>\n",
       "      <td>0</td>\n",
       "      <td>0</td>\n",
       "      <td>1</td>\n",
       "      <td>1</td>\n",
       "      <td>1</td>\n",
       "      <td>4</td>\n",
       "    </tr>\n",
       "    <tr>\n",
       "      <th>3</th>\n",
       "      <td>1</td>\n",
       "      <td>0</td>\n",
       "      <td>0</td>\n",
       "      <td>1</td>\n",
       "      <td>0</td>\n",
       "      <td>0</td>\n",
       "      <td>1</td>\n",
       "      <td>1</td>\n",
       "      <td>1</td>\n",
       "    </tr>\n",
       "    <tr>\n",
       "      <th>4</th>\n",
       "      <td>1</td>\n",
       "      <td>0</td>\n",
       "      <td>0</td>\n",
       "      <td>1</td>\n",
       "      <td>0</td>\n",
       "      <td>0</td>\n",
       "      <td>1</td>\n",
       "      <td>1</td>\n",
       "      <td>1</td>\n",
       "    </tr>\n",
       "    <tr>\n",
       "      <th>...</th>\n",
       "      <td>...</td>\n",
       "      <td>...</td>\n",
       "      <td>...</td>\n",
       "      <td>...</td>\n",
       "      <td>...</td>\n",
       "      <td>...</td>\n",
       "      <td>...</td>\n",
       "      <td>...</td>\n",
       "      <td>...</td>\n",
       "    </tr>\n",
       "    <tr>\n",
       "      <th>96</th>\n",
       "      <td>1</td>\n",
       "      <td>0</td>\n",
       "      <td>0</td>\n",
       "      <td>1</td>\n",
       "      <td>0</td>\n",
       "      <td>0</td>\n",
       "      <td>0</td>\n",
       "      <td>1</td>\n",
       "      <td>1</td>\n",
       "    </tr>\n",
       "    <tr>\n",
       "      <th>97</th>\n",
       "      <td>1</td>\n",
       "      <td>0</td>\n",
       "      <td>1</td>\n",
       "      <td>0</td>\n",
       "      <td>1</td>\n",
       "      <td>0</td>\n",
       "      <td>0</td>\n",
       "      <td>0</td>\n",
       "      <td>6</td>\n",
       "    </tr>\n",
       "    <tr>\n",
       "      <th>98</th>\n",
       "      <td>1</td>\n",
       "      <td>0</td>\n",
       "      <td>0</td>\n",
       "      <td>1</td>\n",
       "      <td>0</td>\n",
       "      <td>0</td>\n",
       "      <td>1</td>\n",
       "      <td>1</td>\n",
       "      <td>1</td>\n",
       "    </tr>\n",
       "    <tr>\n",
       "      <th>99</th>\n",
       "      <td>0</td>\n",
       "      <td>0</td>\n",
       "      <td>1</td>\n",
       "      <td>0</td>\n",
       "      <td>0</td>\n",
       "      <td>0</td>\n",
       "      <td>0</td>\n",
       "      <td>0</td>\n",
       "      <td>7</td>\n",
       "    </tr>\n",
       "    <tr>\n",
       "      <th>100</th>\n",
       "      <td>0</td>\n",
       "      <td>1</td>\n",
       "      <td>1</td>\n",
       "      <td>0</td>\n",
       "      <td>1</td>\n",
       "      <td>0</td>\n",
       "      <td>0</td>\n",
       "      <td>0</td>\n",
       "      <td>2</td>\n",
       "    </tr>\n",
       "  </tbody>\n",
       "</table>\n",
       "<p>101 rows × 9 columns</p>\n",
       "</div>"
      ],
      "text/plain": [
       "     hair  feathers  eggs  milk  airborne  aquatic  predator  toothed  \\\n",
       "0       1         0     0     1         0        0         1        1   \n",
       "1       1         0     0     1         0        0         0        1   \n",
       "2       0         0     1     0         0        1         1        1   \n",
       "3       1         0     0     1         0        0         1        1   \n",
       "4       1         0     0     1         0        0         1        1   \n",
       "..    ...       ...   ...   ...       ...      ...       ...      ...   \n",
       "96      1         0     0     1         0        0         0        1   \n",
       "97      1         0     1     0         1        0         0        0   \n",
       "98      1         0     0     1         0        0         1        1   \n",
       "99      0         0     1     0         0        0         0        0   \n",
       "100     0         1     1     0         1        0         0        0   \n",
       "\n",
       "     class_type  \n",
       "0             1  \n",
       "1             1  \n",
       "2             4  \n",
       "3             1  \n",
       "4             1  \n",
       "..          ...  \n",
       "96            1  \n",
       "97            6  \n",
       "98            1  \n",
       "99            7  \n",
       "100           2  \n",
       "\n",
       "[101 rows x 9 columns]"
      ]
     },
     "execution_count": 316,
     "metadata": {},
     "output_type": "execute_result"
    }
   ],
   "source": [
    "zoo2"
   ]
  },
  {
   "cell_type": "code",
   "execution_count": 317,
   "metadata": {},
   "outputs": [
    {
     "name": "stdout",
     "output_type": "stream",
     "text": [
      "Prediction =  [1 1 4 1 1 1 1 4 4 1 1 2 4 7 7 7 2 1 4 1 2 2 1 2 7 4 4 1 1 1 6 1 1 2 4 1 1\n",
      " 2 4 6 6 2 6 2 1 1 7 1 1 1 1 6 4 7 1 1 2 2 2 2 4 4 3 1 1 1 1 1 1 1 1 2 7 4\n",
      " 1 1 3 7 2 2 3 7 4 2 1 7 4 2 7 4 7 3 4 1 1 2 1 6 1 7 2]\n"
     ]
    }
   ],
   "source": [
    "from sklearn.neighbors import KNeighborsClassifier\n",
    "knn = KNeighborsClassifier(n_neighbors = 1)\n",
    "x,y = zoo2.loc[:,zoo2.columns != 'class_type'], zoo2.loc[:,'class_type']\n",
    "knn.fit(x,y)\n",
    "prediction = knn.predict(x)\n",
    "print(\"Prediction = \",prediction)"
   ]
  },
  {
   "cell_type": "code",
   "execution_count": 318,
   "metadata": {},
   "outputs": [
    {
     "name": "stdout",
     "output_type": "stream",
     "text": [
      "With KNN (K=1) accuracy is:  0.9032258064516129\n"
     ]
    }
   ],
   "source": [
    "from sklearn.model_selection import train_test_split\n",
    "x_train,x_test,y_train,y_test = train_test_split(x,y,test_size = 0.3,random_state = 1)\n",
    "knn = KNeighborsClassifier(n_neighbors = 1)\n",
    "x,y = zoo2.loc[:,zoo2.columns != 'class_type'], zoo2.loc[:,'class_type']\n",
    "knn.fit(x_train,y_train)\n",
    "prediction = knn.predict(x_test)\n",
    "print('With KNN (K=1) accuracy is: ',knn.score(x_test,y_test)) # accuracy"
   ]
  },
  {
   "cell_type": "code",
   "execution_count": 319,
   "metadata": {},
   "outputs": [
    {
     "data": {
      "image/png": "[encoded data removed]",
      "text/plain": [
       "<Figure size 936x576 with 1 Axes>"
      ]
     },
     "metadata": {
      "needs_background": "light"
     },
     "output_type": "display_data"
    },
    {
     "name": "stdout",
     "output_type": "stream",
     "text": [
      "Best accuracy is 0.9032258064516129 with K = 1\n"
     ]
    }
   ],
   "source": [
    "k_values = np.arange(1,18)\n",
    "train_accuracy = []\n",
    "test_accuracy = []\n",
    "\n",
    "for i, k in enumerate(k_values):\n",
    "    # k from 1 to 18(exclude)\n",
    "    knn = KNeighborsClassifier(n_neighbors=k)\n",
    "    # Fit with knn\n",
    "    knn.fit(x_train,y_train)\n",
    "    #train accuracy\n",
    "    train_accuracy.append(knn.score(x_train, y_train))\n",
    "    # test accuracy\n",
    "    test_accuracy.append(knn.score(x_test, y_test))\n",
    "\n",
    "    # Plot\n",
    "plt.figure(figsize=[13,8])\n",
    "plt.plot(k_values, test_accuracy, label = 'Testing Accuracy')\n",
    "plt.plot(k_values, train_accuracy, label = 'Training Accuracy')\n",
    "plt.legend()\n",
    "plt.title('-value VS Accuracy')\n",
    "plt.xlabel('Number of Neighbors')\n",
    "plt.ylabel('Accuracy')\n",
    "plt.xticks(k_values)\n",
    "plt.savefig('graph.png')\n",
    "plt.show()\n",
    "print(\"Best accuracy is {} with K = {}\".format(np.max(test_accuracy),1+test_accuracy.index(np.max(test_accuracy))))\n"
   ]
  },
  {
   "cell_type": "code",
   "execution_count": null,
   "metadata": {},
   "outputs": [],
   "source": []
  },
  {
   "cell_type": "markdown",
   "metadata": {},
   "source": [
    "# Cross Validation "
   ]
  },
  {
   "cell_type": "code",
   "execution_count": 320,
   "metadata": {},
   "outputs": [
    {
     "name": "stdout",
     "output_type": "stream",
     "text": [
      "[0.85714286 0.8        0.85       0.85       0.9       ]\n",
      "cv_scores mean:0.8514285714285714\n"
     ]
    },
    {
     "name": "stderr",
     "output_type": "stream",
     "text": [
      "C:\\ProgramData\\Anaconda3\\lib\\site-packages\\sklearn\\model_selection\\_split.py:670: UserWarning: The least populated class in y has only 4 members, which is less than n_splits=5.\n",
      "  warnings.warn((\"The least populated class in y has only %d\"\n"
     ]
    }
   ],
   "source": [
    "from sklearn.model_selection import cross_val_score\n",
    "import numpy as np\n",
    "#create a new KNN model\n",
    "knn_cv = KNeighborsClassifier(n_neighbors=5)\n",
    "#train model with cv of 5 \n",
    "cv_scores = cross_val_score(knn_cv, x, y, cv=5)\n",
    "#print each cv score (accuracy) and average them\n",
    "print(cv_scores)\n",
    "print('cv_scores mean:{}'.format(np.mean(cv_scores)))"
   ]
  },
  {
   "cell_type": "markdown",
   "metadata": {},
   "source": [
    "# Hypertuning model parameters using GridSearchCV"
   ]
  },
  {
   "cell_type": "code",
   "execution_count": 321,
   "metadata": {},
   "outputs": [
    {
     "name": "stderr",
     "output_type": "stream",
     "text": [
      "C:\\ProgramData\\Anaconda3\\lib\\site-packages\\sklearn\\model_selection\\_split.py:670: UserWarning: The least populated class in y has only 4 members, which is less than n_splits=5.\n",
      "  warnings.warn((\"The least populated class in y has only %d\"\n"
     ]
    },
    {
     "data": {
      "text/plain": [
       "GridSearchCV(cv=5, estimator=KNeighborsClassifier(),\n",
       "             param_grid={'n_neighbors': array([ 1,  2,  3,  4,  5,  6,  7,  8,  9, 10, 11, 12, 13, 14, 15, 16, 17,\n",
       "       18, 19, 20, 21, 22, 23, 24])})"
      ]
     },
     "execution_count": 321,
     "metadata": {},
     "output_type": "execute_result"
    }
   ],
   "source": [
    "from sklearn.model_selection import GridSearchCV\n",
    "#create new a knn model\n",
    "knn2 = KNeighborsClassifier()\n",
    "#create a dictionary of all values we want to test for n_neighbors\n",
    "param_grid = {'n_neighbors': np.arange(1, 25)}\n",
    "#use gridsearch to test all values for n_neighbors\n",
    "knn_gscv = GridSearchCV(knn2, param_grid, cv=5)\n",
    "#fit model to data\n",
    "knn_gscv.fit(x, y)"
   ]
  },
  {
   "cell_type": "code",
   "execution_count": 322,
   "metadata": {},
   "outputs": [
    {
     "data": {
      "text/plain": [
       "{'n_neighbors': 4}"
      ]
     },
     "execution_count": 322,
     "metadata": {},
     "output_type": "execute_result"
    }
   ],
   "source": [
    "#check top performing n_neighbors value\n",
    "knn_gscv.best_params_"
   ]
  },
  {
   "cell_type": "code",
   "execution_count": 323,
   "metadata": {},
   "outputs": [
    {
     "data": {
      "text/plain": [
       "0.8914285714285715"
      ]
     },
     "execution_count": 323,
     "metadata": {},
     "output_type": "execute_result"
    }
   ],
   "source": [
    "#check mean score for the top performing value of n_neighbors\n",
    "knn_gscv.best_score_"
   ]
  },
  {
   "cell_type": "markdown",
   "metadata": {},
   "source": [
    "# Now a model for n neighbor with optimized k = 4 from Cross Validation"
   ]
  },
  {
   "cell_type": "code",
   "execution_count": 324,
   "metadata": {},
   "outputs": [],
   "source": [
    "knn = KNeighborsClassifier(n_neighbors = 4)"
   ]
  },
  {
   "cell_type": "code",
   "execution_count": 325,
   "metadata": {},
   "outputs": [
    {
     "data": {
      "text/plain": [
       "KNeighborsClassifier(n_neighbors=4)"
      ]
     },
     "execution_count": 325,
     "metadata": {},
     "output_type": "execute_result"
    }
   ],
   "source": [
    "knn.fit(x_train, y_train)"
   ]
  },
  {
   "cell_type": "code",
   "execution_count": 326,
   "metadata": {},
   "outputs": [
    {
     "data": {
      "text/plain": [
       "0.9032258064516129"
      ]
     },
     "execution_count": 326,
     "metadata": {},
     "output_type": "execute_result"
    }
   ],
   "source": [
    "knn.score(x_test,y_test)"
   ]
  },
  {
   "cell_type": "markdown",
   "metadata": {},
   "source": [
    "### Now using KNN with K = 4 the score is highest till now"
   ]
  },
  {
   "cell_type": "markdown",
   "metadata": {},
   "source": [
    "# Confusion Matrix"
   ]
  },
  {
   "cell_type": "code",
   "execution_count": 328,
   "metadata": {},
   "outputs": [],
   "source": [
    "from sklearn.metrics import confusion_matrix, roc_curve, roc_auc_score, auc, classification_report"
   ]
  },
  {
   "cell_type": "code",
   "execution_count": 329,
   "metadata": {},
   "outputs": [
    {
     "name": "stdout",
     "output_type": "stream",
     "text": [
      "[[15  0  0  0  0  0  0]\n",
      " [ 0  5  0  0  0  0  0]\n",
      " [ 0  0  1  0  0  0  0]\n",
      " [ 0  0  0  3  0  0  0]\n",
      " [ 0  0  0  1  0  0  0]\n",
      " [ 0  1  0  0  0  2  0]\n",
      " [ 0  0  0  0  0  1  2]]\n"
     ]
    },
    {
     "data": {
      "image/png": "[encoded data removed]",
      "text/plain": [
       "<Figure size 432x288 with 2 Axes>"
      ]
     },
     "metadata": {
      "needs_background": "light"
     },
     "output_type": "display_data"
    }
   ],
   "source": [
    "from sklearn.metrics import plot_confusion_matrix\n",
    "disp = plot_confusion_matrix(knn, x_test, y_test)\n",
    "cmap=plt.cm.Blues\n",
    "disp.ax_.set_title(\"Confusion Matrix\")\n",
    "print(disp.confusion_matrix)"
   ]
  },
  {
   "cell_type": "markdown",
   "metadata": {},
   "source": [
    "# Logistic Regression"
   ]
  },
  {
   "cell_type": "code",
   "execution_count": 330,
   "metadata": {},
   "outputs": [],
   "source": [
    "#Here the same dataset is used which is taken for KNN ie. the one whic"
   ]
  },
  {
   "cell_type": "code",
   "execution_count": 331,
   "metadata": {},
   "outputs": [
    {
     "data": {
      "text/html": [
       "<div>\n",
       "<style scoped>\n",
       "    .dataframe tbody tr th:only-of-type {\n",
       "        vertical-align: middle;\n",
       "    }\n",
       "\n",
       "    .dataframe tbody tr th {\n",
       "        vertical-align: top;\n",
       "    }\n",
       "\n",
       "    .dataframe thead th {\n",
       "        text-align: right;\n",
       "    }\n",
       "</style>\n",
       "<table border=\"1\" class=\"dataframe\">\n",
       "  <thead>\n",
       "    <tr style=\"text-align: right;\">\n",
       "      <th></th>\n",
       "      <th>hair</th>\n",
       "      <th>feathers</th>\n",
       "      <th>eggs</th>\n",
       "      <th>milk</th>\n",
       "      <th>airborne</th>\n",
       "      <th>aquatic</th>\n",
       "      <th>predator</th>\n",
       "      <th>toothed</th>\n",
       "      <th>class_type</th>\n",
       "    </tr>\n",
       "  </thead>\n",
       "  <tbody>\n",
       "    <tr>\n",
       "      <th>0</th>\n",
       "      <td>1</td>\n",
       "      <td>0</td>\n",
       "      <td>0</td>\n",
       "      <td>1</td>\n",
       "      <td>0</td>\n",
       "      <td>0</td>\n",
       "      <td>1</td>\n",
       "      <td>1</td>\n",
       "      <td>1</td>\n",
       "    </tr>\n",
       "    <tr>\n",
       "      <th>1</th>\n",
       "      <td>1</td>\n",
       "      <td>0</td>\n",
       "      <td>0</td>\n",
       "      <td>1</td>\n",
       "      <td>0</td>\n",
       "      <td>0</td>\n",
       "      <td>0</td>\n",
       "      <td>1</td>\n",
       "      <td>1</td>\n",
       "    </tr>\n",
       "    <tr>\n",
       "      <th>2</th>\n",
       "      <td>0</td>\n",
       "      <td>0</td>\n",
       "      <td>1</td>\n",
       "      <td>0</td>\n",
       "      <td>0</td>\n",
       "      <td>1</td>\n",
       "      <td>1</td>\n",
       "      <td>1</td>\n",
       "      <td>4</td>\n",
       "    </tr>\n",
       "    <tr>\n",
       "      <th>3</th>\n",
       "      <td>1</td>\n",
       "      <td>0</td>\n",
       "      <td>0</td>\n",
       "      <td>1</td>\n",
       "      <td>0</td>\n",
       "      <td>0</td>\n",
       "      <td>1</td>\n",
       "      <td>1</td>\n",
       "      <td>1</td>\n",
       "    </tr>\n",
       "    <tr>\n",
       "      <th>4</th>\n",
       "      <td>1</td>\n",
       "      <td>0</td>\n",
       "      <td>0</td>\n",
       "      <td>1</td>\n",
       "      <td>0</td>\n",
       "      <td>0</td>\n",
       "      <td>1</td>\n",
       "      <td>1</td>\n",
       "      <td>1</td>\n",
       "    </tr>\n",
       "    <tr>\n",
       "      <th>...</th>\n",
       "      <td>...</td>\n",
       "      <td>...</td>\n",
       "      <td>...</td>\n",
       "      <td>...</td>\n",
       "      <td>...</td>\n",
       "      <td>...</td>\n",
       "      <td>...</td>\n",
       "      <td>...</td>\n",
       "      <td>...</td>\n",
       "    </tr>\n",
       "    <tr>\n",
       "      <th>96</th>\n",
       "      <td>1</td>\n",
       "      <td>0</td>\n",
       "      <td>0</td>\n",
       "      <td>1</td>\n",
       "      <td>0</td>\n",
       "      <td>0</td>\n",
       "      <td>0</td>\n",
       "      <td>1</td>\n",
       "      <td>1</td>\n",
       "    </tr>\n",
       "    <tr>\n",
       "      <th>97</th>\n",
       "      <td>1</td>\n",
       "      <td>0</td>\n",
       "      <td>1</td>\n",
       "      <td>0</td>\n",
       "      <td>1</td>\n",
       "      <td>0</td>\n",
       "      <td>0</td>\n",
       "      <td>0</td>\n",
       "      <td>6</td>\n",
       "    </tr>\n",
       "    <tr>\n",
       "      <th>98</th>\n",
       "      <td>1</td>\n",
       "      <td>0</td>\n",
       "      <td>0</td>\n",
       "      <td>1</td>\n",
       "      <td>0</td>\n",
       "      <td>0</td>\n",
       "      <td>1</td>\n",
       "      <td>1</td>\n",
       "      <td>1</td>\n",
       "    </tr>\n",
       "    <tr>\n",
       "      <th>99</th>\n",
       "      <td>0</td>\n",
       "      <td>0</td>\n",
       "      <td>1</td>\n",
       "      <td>0</td>\n",
       "      <td>0</td>\n",
       "      <td>0</td>\n",
       "      <td>0</td>\n",
       "      <td>0</td>\n",
       "      <td>7</td>\n",
       "    </tr>\n",
       "    <tr>\n",
       "      <th>100</th>\n",
       "      <td>0</td>\n",
       "      <td>1</td>\n",
       "      <td>1</td>\n",
       "      <td>0</td>\n",
       "      <td>1</td>\n",
       "      <td>0</td>\n",
       "      <td>0</td>\n",
       "      <td>0</td>\n",
       "      <td>2</td>\n",
       "    </tr>\n",
       "  </tbody>\n",
       "</table>\n",
       "<p>101 rows × 9 columns</p>\n",
       "</div>"
      ],
      "text/plain": [
       "     hair  feathers  eggs  milk  airborne  aquatic  predator  toothed  \\\n",
       "0       1         0     0     1         0        0         1        1   \n",
       "1       1         0     0     1         0        0         0        1   \n",
       "2       0         0     1     0         0        1         1        1   \n",
       "3       1         0     0     1         0        0         1        1   \n",
       "4       1         0     0     1         0        0         1        1   \n",
       "..    ...       ...   ...   ...       ...      ...       ...      ...   \n",
       "96      1         0     0     1         0        0         0        1   \n",
       "97      1         0     1     0         1        0         0        0   \n",
       "98      1         0     0     1         0        0         1        1   \n",
       "99      0         0     1     0         0        0         0        0   \n",
       "100     0         1     1     0         1        0         0        0   \n",
       "\n",
       "     class_type  \n",
       "0             1  \n",
       "1             1  \n",
       "2             4  \n",
       "3             1  \n",
       "4             1  \n",
       "..          ...  \n",
       "96            1  \n",
       "97            6  \n",
       "98            1  \n",
       "99            7  \n",
       "100           2  \n",
       "\n",
       "[101 rows x 9 columns]"
      ]
     },
     "execution_count": 331,
     "metadata": {},
     "output_type": "execute_result"
    }
   ],
   "source": [
    "zoo3 = zoo2.copy()\n",
    "zoo3"
   ]
  },
  {
   "cell_type": "code",
   "execution_count": 332,
   "metadata": {},
   "outputs": [],
   "source": [
    "from sklearn.linear_model import LogisticRegression"
   ]
  },
  {
   "cell_type": "code",
   "execution_count": 333,
   "metadata": {},
   "outputs": [],
   "source": [
    "test_size = 0.3\n",
    "seed = 1\n",
    "X_train, X_test, y_train, y_test = train_test_split(zoo3.drop('class_type', axis=1), zoo3['class_type'], test_size = test_size, random_state = seed)"
   ]
  },
  {
   "cell_type": "code",
   "execution_count": 334,
   "metadata": {},
   "outputs": [
    {
     "data": {
      "text/plain": [
       "LogisticRegression(class_weight='balanced', max_iter=1000, random_state=1)"
      ]
     },
     "execution_count": 334,
     "metadata": {},
     "output_type": "execute_result"
    }
   ],
   "source": [
    "model = LogisticRegression(random_state = 1, class_weight='balanced', max_iter = 1000)\n",
    "model.fit(X_train,y_train)"
   ]
  },
  {
   "cell_type": "code",
   "execution_count": 335,
   "metadata": {},
   "outputs": [
    {
     "data": {
      "text/plain": [
       "array([[0.85806849, 0.00590327, 0.06181132, 0.01249353, 0.01354609,\n",
       "        0.04257543, 0.00560186],\n",
       "       [0.00672545, 0.80895796, 0.01286363, 0.03431462, 0.03272817,\n",
       "        0.02056743, 0.08384274],\n",
       "       [0.85806849, 0.00590327, 0.06181132, 0.01249353, 0.01354609,\n",
       "        0.04257543, 0.00560186],\n",
       "       [0.0068079 , 0.79220264, 0.02724782, 0.00869066, 0.00919179,\n",
       "        0.13535314, 0.02050605],\n",
       "       [0.85806849, 0.00590327, 0.06181132, 0.01249353, 0.01354609,\n",
       "        0.04257543, 0.00560186],\n",
       "       [0.01738675, 0.05603792, 0.06172881, 0.10363384, 0.09994296,\n",
       "        0.04221705, 0.61905268],\n",
       "       [0.85806849, 0.00590327, 0.06181132, 0.01249353, 0.01354609,\n",
       "        0.04257543, 0.00560186],\n",
       "       [0.0068079 , 0.79220264, 0.02724782, 0.00869066, 0.00919179,\n",
       "        0.13535314, 0.02050605],\n",
       "       [0.02404063, 0.02300728, 0.09698014, 0.37643136, 0.40621844,\n",
       "        0.04648744, 0.02683472],\n",
       "       [0.02755237, 0.02485461, 0.13619206, 0.36506832, 0.35344312,\n",
       "        0.01522725, 0.07766227],\n",
       "       [0.00763451, 0.83739953, 0.03744171, 0.008247  , 0.00782555,\n",
       "        0.04338196, 0.05806974],\n",
       "       [0.86977302, 0.00564033, 0.07677288, 0.01071629, 0.01042424,\n",
       "        0.01233434, 0.0143389 ],\n",
       "       [0.85806849, 0.00590327, 0.06181132, 0.01249353, 0.01354609,\n",
       "        0.04257543, 0.00560186],\n",
       "       [0.80755987, 0.01597994, 0.04291395, 0.01127377, 0.01211061,\n",
       "        0.10669222, 0.00346964],\n",
       "       [0.85806849, 0.00590327, 0.06181132, 0.01249353, 0.01354609,\n",
       "        0.04257543, 0.00560186],\n",
       "       [0.85806849, 0.00590327, 0.06181132, 0.01249353, 0.01354609,\n",
       "        0.04257543, 0.00560186],\n",
       "       [0.48818499, 0.01907671, 0.13373713, 0.13831695, 0.13560876,\n",
       "        0.00826174, 0.07681371],\n",
       "       [0.85806849, 0.00590327, 0.06181132, 0.01249353, 0.01354609,\n",
       "        0.04257543, 0.00560186],\n",
       "       [0.02562665, 0.07990492, 0.19038695, 0.03821699, 0.04087067,\n",
       "        0.40453613, 0.22045771],\n",
       "       [0.04395426, 0.03615725, 0.55709013, 0.12330275, 0.11876659,\n",
       "        0.04513696, 0.07559207],\n",
       "       [0.00672545, 0.80895796, 0.01286363, 0.03431462, 0.03272817,\n",
       "        0.02056743, 0.08384274],\n",
       "       [0.85806849, 0.00590327, 0.06181132, 0.01249353, 0.01354609,\n",
       "        0.04257543, 0.00560186],\n",
       "       [0.04192389, 0.06842369, 0.0288727 , 0.01231255, 0.01301018,\n",
       "        0.79469773, 0.04075926],\n",
       "       [0.04192389, 0.06842369, 0.0288727 , 0.01231255, 0.01301018,\n",
       "        0.79469773, 0.04075926],\n",
       "       [0.02755237, 0.02485461, 0.13619206, 0.36506832, 0.35344312,\n",
       "        0.01522725, 0.07766227],\n",
       "       [0.01738675, 0.05603792, 0.06172881, 0.10363384, 0.09994296,\n",
       "        0.04221705, 0.61905268],\n",
       "       [0.022302  , 0.18853135, 0.14976926, 0.02698451, 0.02565131,\n",
       "        0.26791866, 0.3188429 ],\n",
       "       [0.86977302, 0.00564033, 0.07677288, 0.01071629, 0.01042424,\n",
       "        0.01233434, 0.0143389 ],\n",
       "       [0.02755237, 0.02485461, 0.13619206, 0.36506832, 0.35344312,\n",
       "        0.01522725, 0.07766227],\n",
       "       [0.86977302, 0.00564033, 0.07677288, 0.01071629, 0.01042424,\n",
       "        0.01233434, 0.0143389 ],\n",
       "       [0.86977302, 0.00564033, 0.07677288, 0.01071629, 0.01042424,\n",
       "        0.01233434, 0.0143389 ]])"
      ]
     },
     "execution_count": 335,
     "metadata": {},
     "output_type": "execute_result"
    }
   ],
   "source": [
    "model.predict_proba(X_test)"
   ]
  },
  {
   "cell_type": "code",
   "execution_count": 336,
   "metadata": {},
   "outputs": [
    {
     "data": {
      "text/plain": [
       "array([1, 2, 1, 2, 1, 7, 1, 2, 5, 4, 2, 1, 1, 1, 1, 1, 1, 1, 6, 3, 2, 1,\n",
       "       6, 6, 4, 7, 7, 1, 4, 1, 1], dtype=int64)"
      ]
     },
     "execution_count": 336,
     "metadata": {},
     "output_type": "execute_result"
    }
   ],
   "source": [
    "model.predict_proba(X_test)"
   ]
  },
  {
   "cell_type": "code",
   "execution_count": 337,
   "metadata": {},
   "outputs": [
    {
     "name": "stdout",
     "output_type": "stream",
     "text": [
      "classes:  [1 2 3 4 5 6 7]\n",
      "coefficients:  [[ 1.35779659 -0.09148593 -1.14628601  1.72247446 -0.17425902 -0.30503974\n",
      "   0.08921575  0.4795951 ]\n",
      " [-0.3460393   2.47154819  0.19074589 -0.07967454  0.88223545 -0.21281304\n",
      "   0.03010463 -0.7937705 ]\n",
      " [-0.71636605 -0.40579939 -0.62827964 -0.65231495 -0.47848181 -1.24663974\n",
      "   0.29243222  0.81053033]\n",
      " [-0.22502132 -0.20490207  0.74736261 -0.22901951 -0.21632505  1.24746301\n",
      "  -0.07777885  1.27843557]\n",
      " [-0.22775757 -0.20668959  0.73587273 -0.22792127 -0.22560851  1.25258361\n",
      "  -0.18629615  1.28233783]\n",
      " [ 0.56145656 -0.84012864  0.35429227 -0.26300454  0.80507859 -0.92459354\n",
      "  -1.16322305 -1.00052244]\n",
      " [-0.40406891 -0.72254257 -0.25370786 -0.27053964 -0.59263965  0.18903944\n",
      "   1.01554545 -2.05660588]]\n",
      "intercept : [-0.12803387 -0.32786113  1.35938562 -1.62203513 -1.54341277  1.13049617\n",
      "  1.13146112]\n"
     ]
    }
   ],
   "source": [
    "print('classes: ',model.classes_)\n",
    "print('coefficients: ',model.coef_)\n",
    "print('intercept :',model.intercept_)"
   ]
  },
  {
   "cell_type": "code",
   "execution_count": 338,
   "metadata": {},
   "outputs": [],
   "source": [
    "pred = model.predict(X_test)"
   ]
  },
  {
   "cell_type": "code",
   "execution_count": 339,
   "metadata": {},
   "outputs": [
    {
     "name": "stdout",
     "output_type": "stream",
     "text": [
      "[[15  0  0  0  0  0  0]\n",
      " [ 0  5  0  0  0  0  0]\n",
      " [ 0  0  1  0  0  0  0]\n",
      " [ 0  0  0  2  1  0  0]\n",
      " [ 0  0  0  1  0  0  0]\n",
      " [ 0  0  0  0  0  2  1]\n",
      " [ 0  0  0  0  0  1  2]]\n"
     ]
    }
   ],
   "source": [
    "con_mat1 = confusion_matrix(y_test, pred )\n",
    "print(con_mat1)"
   ]
  },
  {
   "cell_type": "code",
   "execution_count": 340,
   "metadata": {},
   "outputs": [
    {
     "name": "stdout",
     "output_type": "stream",
     "text": [
      "[[15  0  0  0  0  0  0]\n",
      " [ 0  5  0  0  0  0  0]\n",
      " [ 0  0  1  0  0  0  0]\n",
      " [ 0  0  0  2  1  0  0]\n",
      " [ 0  0  0  1  0  0  0]\n",
      " [ 0  0  0  0  0  2  1]\n",
      " [ 0  0  0  0  0  1  2]]\n"
     ]
    }
   ],
   "source": [
    "pred = model.predict(X_test)\n",
    "labels = [1, 2, 3, 4, 5, 6, 7]\n",
    "con_mat = confusion_matrix(y_test, pred, labels = labels )\n",
    "print(con_mat)"
   ]
  },
  {
   "cell_type": "code",
   "execution_count": 341,
   "metadata": {},
   "outputs": [
    {
     "data": {
      "text/plain": [
       "0.8709677419354839"
      ]
     },
     "execution_count": 341,
     "metadata": {},
     "output_type": "execute_result"
    }
   ],
   "source": [
    "accuracy=(con_mat[0,0] + con_mat[1,1])/y_test.size\n",
    "np.mean(y_test == pred)"
   ]
  },
  {
   "cell_type": "code",
   "execution_count": 342,
   "metadata": {},
   "outputs": [],
   "source": [
    "model_1=LogisticRegression(class_weight = 'balanced')"
   ]
  },
  {
   "cell_type": "code",
   "execution_count": 343,
   "metadata": {},
   "outputs": [
    {
     "data": {
      "text/plain": [
       "LogisticRegression(class_weight='balanced')"
      ]
     },
     "execution_count": 343,
     "metadata": {},
     "output_type": "execute_result"
    }
   ],
   "source": [
    "model_1.fit(X_train,y_train)"
   ]
  },
  {
   "cell_type": "code",
   "execution_count": 344,
   "metadata": {},
   "outputs": [
    {
     "data": {
      "text/plain": [
       "0.8709677419354839"
      ]
     },
     "execution_count": 344,
     "metadata": {},
     "output_type": "execute_result"
    }
   ],
   "source": [
    "model_1.score(X_test, y_test)"
   ]
  },
  {
   "cell_type": "markdown",
   "metadata": {},
   "source": [
    "# Grid search cross validation with 2 hyperparameter"
   ]
  },
  {
   "cell_type": "code",
   "execution_count": 345,
   "metadata": {},
   "outputs": [
    {
     "name": "stderr",
     "output_type": "stream",
     "text": [
      "C:\\ProgramData\\Anaconda3\\lib\\site-packages\\sklearn\\model_selection\\_validation.py:548: FitFailedWarning: Estimator fit failed. The score on this train-test partition for these parameters will be set to nan. Details: \n",
      "Traceback (most recent call last):\n",
      "  File \"C:\\ProgramData\\Anaconda3\\lib\\site-packages\\sklearn\\model_selection\\_validation.py\", line 531, in _fit_and_score\n",
      "    estimator.fit(X_train, y_train, **fit_params)\n",
      "  File \"C:\\ProgramData\\Anaconda3\\lib\\site-packages\\sklearn\\linear_model\\_logistic.py\", line 1304, in fit\n",
      "    solver = _check_solver(self.solver, self.penalty, self.dual)\n",
      "  File \"C:\\ProgramData\\Anaconda3\\lib\\site-packages\\sklearn\\linear_model\\_logistic.py\", line 442, in _check_solver\n",
      "    raise ValueError(\"Solver %s supports only 'l2' or 'none' penalties, \"\n",
      "ValueError: Solver lbfgs supports only 'l2' or 'none' penalties, got l1 penalty.\n",
      "\n",
      "  warnings.warn(\"Estimator fit failed. The score on this train-test\"\n",
      "C:\\ProgramData\\Anaconda3\\lib\\site-packages\\sklearn\\model_selection\\_validation.py:548: FitFailedWarning: Estimator fit failed. The score on this train-test partition for these parameters will be set to nan. Details: \n",
      "Traceback (most recent call last):\n",
      "  File \"C:\\ProgramData\\Anaconda3\\lib\\site-packages\\sklearn\\model_selection\\_validation.py\", line 531, in _fit_and_score\n",
      "    estimator.fit(X_train, y_train, **fit_params)\n",
      "  File \"C:\\ProgramData\\Anaconda3\\lib\\site-packages\\sklearn\\linear_model\\_logistic.py\", line 1304, in fit\n",
      "    solver = _check_solver(self.solver, self.penalty, self.dual)\n",
      "  File \"C:\\ProgramData\\Anaconda3\\lib\\site-packages\\sklearn\\linear_model\\_logistic.py\", line 442, in _check_solver\n",
      "    raise ValueError(\"Solver %s supports only 'l2' or 'none' penalties, \"\n",
      "ValueError: Solver lbfgs supports only 'l2' or 'none' penalties, got l1 penalty.\n",
      "\n",
      "  warnings.warn(\"Estimator fit failed. The score on this train-test\"\n",
      "C:\\ProgramData\\Anaconda3\\lib\\site-packages\\sklearn\\model_selection\\_validation.py:548: FitFailedWarning: Estimator fit failed. The score on this train-test partition for these parameters will be set to nan. Details: \n",
      "Traceback (most recent call last):\n",
      "  File \"C:\\ProgramData\\Anaconda3\\lib\\site-packages\\sklearn\\model_selection\\_validation.py\", line 531, in _fit_and_score\n",
      "    estimator.fit(X_train, y_train, **fit_params)\n",
      "  File \"C:\\ProgramData\\Anaconda3\\lib\\site-packages\\sklearn\\linear_model\\_logistic.py\", line 1304, in fit\n",
      "    solver = _check_solver(self.solver, self.penalty, self.dual)\n",
      "  File \"C:\\ProgramData\\Anaconda3\\lib\\site-packages\\sklearn\\linear_model\\_logistic.py\", line 442, in _check_solver\n",
      "    raise ValueError(\"Solver %s supports only 'l2' or 'none' penalties, \"\n",
      "ValueError: Solver lbfgs supports only 'l2' or 'none' penalties, got l1 penalty.\n",
      "\n",
      "  warnings.warn(\"Estimator fit failed. The score on this train-test\"\n",
      "C:\\ProgramData\\Anaconda3\\lib\\site-packages\\sklearn\\model_selection\\_validation.py:548: FitFailedWarning: Estimator fit failed. The score on this train-test partition for these parameters will be set to nan. Details: \n",
      "Traceback (most recent call last):\n",
      "  File \"C:\\ProgramData\\Anaconda3\\lib\\site-packages\\sklearn\\model_selection\\_validation.py\", line 531, in _fit_and_score\n",
      "    estimator.fit(X_train, y_train, **fit_params)\n",
      "  File \"C:\\ProgramData\\Anaconda3\\lib\\site-packages\\sklearn\\linear_model\\_logistic.py\", line 1304, in fit\n",
      "    solver = _check_solver(self.solver, self.penalty, self.dual)\n",
      "  File \"C:\\ProgramData\\Anaconda3\\lib\\site-packages\\sklearn\\linear_model\\_logistic.py\", line 442, in _check_solver\n",
      "    raise ValueError(\"Solver %s supports only 'l2' or 'none' penalties, \"\n",
      "ValueError: Solver lbfgs supports only 'l2' or 'none' penalties, got l1 penalty.\n",
      "\n",
      "  warnings.warn(\"Estimator fit failed. The score on this train-test\"\n",
      "C:\\ProgramData\\Anaconda3\\lib\\site-packages\\sklearn\\model_selection\\_validation.py:548: FitFailedWarning: Estimator fit failed. The score on this train-test partition for these parameters will be set to nan. Details: \n",
      "Traceback (most recent call last):\n",
      "  File \"C:\\ProgramData\\Anaconda3\\lib\\site-packages\\sklearn\\model_selection\\_validation.py\", line 531, in _fit_and_score\n",
      "    estimator.fit(X_train, y_train, **fit_params)\n",
      "  File \"C:\\ProgramData\\Anaconda3\\lib\\site-packages\\sklearn\\linear_model\\_logistic.py\", line 1304, in fit\n",
      "    solver = _check_solver(self.solver, self.penalty, self.dual)\n",
      "  File \"C:\\ProgramData\\Anaconda3\\lib\\site-packages\\sklearn\\linear_model\\_logistic.py\", line 442, in _check_solver\n",
      "    raise ValueError(\"Solver %s supports only 'l2' or 'none' penalties, \"\n",
      "ValueError: Solver lbfgs supports only 'l2' or 'none' penalties, got l1 penalty.\n",
      "\n",
      "  warnings.warn(\"Estimator fit failed. The score on this train-test\"\n"
     ]
    },
    {
     "name": "stdout",
     "output_type": "stream",
     "text": [
      "Tuned hyperparameters : {'C': 10.0, 'penalty': 'l2'}\n",
      "Best Accuracy: 0.9003623188405797\n"
     ]
    },
    {
     "name": "stderr",
     "output_type": "stream",
     "text": [
      "C:\\ProgramData\\Anaconda3\\lib\\site-packages\\sklearn\\model_selection\\_validation.py:548: FitFailedWarning: Estimator fit failed. The score on this train-test partition for these parameters will be set to nan. Details: \n",
      "Traceback (most recent call last):\n",
      "  File \"C:\\ProgramData\\Anaconda3\\lib\\site-packages\\sklearn\\model_selection\\_validation.py\", line 531, in _fit_and_score\n",
      "    estimator.fit(X_train, y_train, **fit_params)\n",
      "  File \"C:\\ProgramData\\Anaconda3\\lib\\site-packages\\sklearn\\linear_model\\_logistic.py\", line 1304, in fit\n",
      "    solver = _check_solver(self.solver, self.penalty, self.dual)\n",
      "  File \"C:\\ProgramData\\Anaconda3\\lib\\site-packages\\sklearn\\linear_model\\_logistic.py\", line 442, in _check_solver\n",
      "    raise ValueError(\"Solver %s supports only 'l2' or 'none' penalties, \"\n",
      "ValueError: Solver lbfgs supports only 'l2' or 'none' penalties, got l1 penalty.\n",
      "\n",
      "  warnings.warn(\"Estimator fit failed. The score on this train-test\"\n",
      "C:\\ProgramData\\Anaconda3\\lib\\site-packages\\sklearn\\linear_model\\_logistic.py:762: ConvergenceWarning: lbfgs failed to converge (status=1):\n",
      "STOP: TOTAL NO. of ITERATIONS REACHED LIMIT.\n",
      "\n",
      "Increase the number of iterations (max_iter) or scale the data as shown in:\n",
      "    https://scikit-learn.org/stable/modules/preprocessing.html\n",
      "Please also refer to the documentation for alternative solver options:\n",
      "    https://scikit-learn.org/stable/modules/linear_model.html#logistic-regression\n",
      "  n_iter_i = _check_optimize_result(\n",
      "C:\\ProgramData\\Anaconda3\\lib\\site-packages\\sklearn\\linear_model\\_logistic.py:762: ConvergenceWarning: lbfgs failed to converge (status=1):\n",
      "STOP: TOTAL NO. of ITERATIONS REACHED LIMIT.\n",
      "\n",
      "Increase the number of iterations (max_iter) or scale the data as shown in:\n",
      "    https://scikit-learn.org/stable/modules/preprocessing.html\n",
      "Please also refer to the documentation for alternative solver options:\n",
      "    https://scikit-learn.org/stable/modules/linear_model.html#logistic-regression\n",
      "  n_iter_i = _check_optimize_result(\n",
      "C:\\ProgramData\\Anaconda3\\lib\\site-packages\\sklearn\\model_selection\\_validation.py:548: FitFailedWarning: Estimator fit failed. The score on this train-test partition for these parameters will be set to nan. Details: \n",
      "Traceback (most recent call last):\n",
      "  File \"C:\\ProgramData\\Anaconda3\\lib\\site-packages\\sklearn\\model_selection\\_validation.py\", line 531, in _fit_and_score\n",
      "    estimator.fit(X_train, y_train, **fit_params)\n",
      "  File \"C:\\ProgramData\\Anaconda3\\lib\\site-packages\\sklearn\\linear_model\\_logistic.py\", line 1304, in fit\n",
      "    solver = _check_solver(self.solver, self.penalty, self.dual)\n",
      "  File \"C:\\ProgramData\\Anaconda3\\lib\\site-packages\\sklearn\\linear_model\\_logistic.py\", line 442, in _check_solver\n",
      "    raise ValueError(\"Solver %s supports only 'l2' or 'none' penalties, \"\n",
      "ValueError: Solver lbfgs supports only 'l2' or 'none' penalties, got l1 penalty.\n",
      "\n",
      "  warnings.warn(\"Estimator fit failed. The score on this train-test\"\n",
      "C:\\ProgramData\\Anaconda3\\lib\\site-packages\\sklearn\\linear_model\\_logistic.py:762: ConvergenceWarning: lbfgs failed to converge (status=1):\n",
      "STOP: TOTAL NO. of ITERATIONS REACHED LIMIT.\n",
      "\n",
      "Increase the number of iterations (max_iter) or scale the data as shown in:\n",
      "    https://scikit-learn.org/stable/modules/preprocessing.html\n",
      "Please also refer to the documentation for alternative solver options:\n",
      "    https://scikit-learn.org/stable/modules/linear_model.html#logistic-regression\n",
      "  n_iter_i = _check_optimize_result(\n",
      "C:\\ProgramData\\Anaconda3\\lib\\site-packages\\sklearn\\linear_model\\_logistic.py:762: ConvergenceWarning: lbfgs failed to converge (status=1):\n",
      "STOP: TOTAL NO. of ITERATIONS REACHED LIMIT.\n",
      "\n",
      "Increase the number of iterations (max_iter) or scale the data as shown in:\n",
      "    https://scikit-learn.org/stable/modules/preprocessing.html\n",
      "Please also refer to the documentation for alternative solver options:\n",
      "    https://scikit-learn.org/stable/modules/linear_model.html#logistic-regression\n",
      "  n_iter_i = _check_optimize_result(\n",
      "C:\\ProgramData\\Anaconda3\\lib\\site-packages\\sklearn\\linear_model\\_logistic.py:762: ConvergenceWarning: lbfgs failed to converge (status=1):\n",
      "STOP: TOTAL NO. of ITERATIONS REACHED LIMIT.\n",
      "\n",
      "Increase the number of iterations (max_iter) or scale the data as shown in:\n",
      "    https://scikit-learn.org/stable/modules/preprocessing.html\n",
      "Please also refer to the documentation for alternative solver options:\n",
      "    https://scikit-learn.org/stable/modules/linear_model.html#logistic-regression\n",
      "  n_iter_i = _check_optimize_result(\n"
     ]
    }
   ],
   "source": [
    "# 1. hyperparameter is C:logistic regression regularization parameter\n",
    "# 2. penalty l1 or l2\n",
    "# Hyperparameter grid\n",
    "param_grid = {'C': np.logspace(-3, 3, 7), 'penalty': ['l1', 'l2']}\n",
    "x_train, x_test, y_train, y_test = train_test_split(x,y,test_size = 0.3,random_state = 1)\n",
    "logreg = LogisticRegression()\n",
    "logreg_cv = GridSearchCV(logreg,param_grid,cv=3)\n",
    "logreg_cv.fit(x_train,y_train)\n",
    "\n",
    "# Print the optimal parameters and best score\n",
    "print(\"Tuned hyperparameters : {}\".format(logreg_cv.best_params_))\n",
    "print(\"Best Accuracy: {}\".format(logreg_cv.best_score_))"
   ]
  },
  {
   "cell_type": "markdown",
   "metadata": {},
   "source": [
    "## Plotting ROC, AUC Curve now"
   ]
  },
  {
   "cell_type": "code",
   "execution_count": 347,
   "metadata": {},
   "outputs": [],
   "source": [
    "from sklearn.metrics import roc_curve, auc\n",
    "from sklearn.multiclass import OneVsRestClassifier\n",
    "from sklearn.svm import LinearSVC\n",
    "from sklearn.preprocessing import label_binarize\n",
    "import matplotlib.pyplot as plt"
   ]
  },
  {
   "cell_type": "code",
   "execution_count": 348,
   "metadata": {},
   "outputs": [
    {
     "data": {
      "image/png": "[encoded data removed]",
      "text/plain": [
       "<Figure size 432x288 with 1 Axes>"
      ]
     },
     "metadata": {
      "needs_background": "light"
     },
     "output_type": "display_data"
    },
    {
     "data": {
      "image/png": "[encoded data removed]",
      "text/plain": [
       "<Figure size 432x288 with 1 Axes>"
      ]
     },
     "metadata": {
      "needs_background": "light"
     },
     "output_type": "display_data"
    },
    {
     "data": {
      "image/png": "[encoded data removed]",
      "text/plain": [
       "<Figure size 432x288 with 1 Axes>"
      ]
     },
     "metadata": {
      "needs_background": "light"
     },
     "output_type": "display_data"
    },
    {
     "data": {
      "image/png": "[encoded data removed]",
      "text/plain": [
       "<Figure size 432x288 with 1 Axes>"
      ]
     },
     "metadata": {
      "needs_background": "light"
     },
     "output_type": "display_data"
    },
    {
     "data": {
      "image/png": "[encoded data removed]",
      "text/plain": [
       "<Figure size 432x288 with 1 Axes>"
      ]
     },
     "metadata": {
      "needs_background": "light"
     },
     "output_type": "display_data"
    },
    {
     "data": {
      "image/png": "[encoded data removed]",
      "text/plain": [
       "<Figure size 432x288 with 1 Axes>"
      ]
     },
     "metadata": {
      "needs_background": "light"
     },
     "output_type": "display_data"
    },
    {
     "data": {
      "image/png": "[encoded data removed]",
      "text/plain": [
       "<Figure size 432x288 with 1 Axes>"
      ]
     },
     "metadata": {
      "needs_background": "light"
     },
     "output_type": "display_data"
    }
   ],
   "source": [
    "y = label_binarize(y, classes=[1,2,3,4,5,6,7])\n",
    "n_classes = 7\n",
    "\n",
    "# shuffle and split training and test sets\n",
    "X_train, X_test, y_train, y_test =\\\n",
    "    train_test_split(x, y, test_size=0.30, random_state=1)\n",
    "\n",
    "# classifier\n",
    "clf = OneVsRestClassifier(LinearSVC(random_state=1))\n",
    "y_score = clf.fit(X_train, y_train).decision_function(X_test)\n",
    "\n",
    "# Compute ROC curve and ROC area for each class\n",
    "fpr = dict()\n",
    "tpr = dict()\n",
    "roc_auc = dict()\n",
    "for i in range(n_classes):\n",
    "    fpr[i], tpr[i], _ = roc_curve(y_test[:, i], y_score[:, i])\n",
    "    roc_auc[i] = auc(fpr[i], tpr[i])\n",
    "\n",
    "# Plot of a ROC curve for a specific class\n",
    "for i in range(n_classes):\n",
    "    plt.figure()\n",
    "    plt.plot(fpr[i], tpr[i], label='ROC curve (area = %0.2f)' % roc_auc[i])\n",
    "    plt.plot([0, 1], [0, 1], 'k--')\n",
    "    plt.xlim([0.0, 1.0])\n",
    "    plt.ylim([0.0, 1.05])\n",
    "    plt.xlabel('False Positive Rate')\n",
    "    plt.ylabel('True Positive Rate')\n",
    "    plt.title('Receiver operating characteristic example')\n",
    "    plt.legend(loc=\"lower right\")\n",
    "    plt.show()"
   ]
  },
  {
   "cell_type": "markdown",
   "metadata": {},
   "source": [
    "### Now using Logistic Regression with Cross Validation we are getting 90.0362 percent score which is almost equal to the optimnized model we developed using KNN with Cross Validation and Hyper Parameter Tuning ie . 90.322 percent. Hence we can conclude that by using both the models perform equally well in both Test sets. "
   ]
  }
 ],
 "metadata": {
  "kernelspec": {
   "display_name": "Python 3",
   "language": "python",
   "name": "python3"
  },
  "language_info": {
   "codemirror_mode": {
    "name": "ipython",
    "version": 3
   },
   "file_extension": ".py",
   "mimetype": "text/x-python",
   "name": "python",
   "nbconvert_exporter": "python",
   "pygments_lexer": "ipython3",
   "version": "3.8.5"
  }
 },
 "nbformat": 4,
 "nbformat_minor": 4
}
